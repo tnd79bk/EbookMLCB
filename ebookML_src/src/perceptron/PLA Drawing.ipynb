{
 "cells": [
  {
   "cell_type": "code",
   "execution_count": 1,
   "metadata": {},
   "outputs": [],
   "source": [
    "from matplotlib import rc\n",
    "rc('font',**{'family':'sans-serif','sans-serif':['Helvetica']})\n",
    "rc('text', usetex=True)"
   ]
  },
  {
   "cell_type": "code",
   "execution_count": 2,
   "metadata": {},
   "outputs": [
    {
     "name": "stderr",
     "output_type": "stream",
     "text": [
      "/Library/Frameworks/Python.framework/Versions/2.7/lib/python2.7/site-packages/matplotlib/font_manager.py:1339: UserWarning: findfont: Font family [u'sans-serif'] not found. Falling back to DejaVu Sans\n",
      "  (prop.get_family(), self.defaultFamily[fontext]))\n"
     ]
    },
    {
     "data": {
      "image/png": "[encoded data removed]",
      "text/plain": [
       "<Figure size 432x288 with 1 Axes>"
      ]
     },
     "metadata": {},
     "output_type": "display_data"
    }
   ],
   "source": [
    "from __future__ import print_function\n",
    "import numpy as np \n",
    "import matplotlib.pyplot as plt\n",
    "np.random.seed(22)\n",
    "\n",
    "\n",
    "from matplotlib.backends.backend_pdf import PdfPages\n",
    "\n",
    "    \n",
    "\n",
    "\n",
    "means = [[2, 2], [4, 2]]\n",
    "cov = [[.3, .2], [.2, .3]]\n",
    "N = 10\n",
    "X0 = np.random.multivariate_normal(means[0], cov, N)\n",
    "X1 = np.random.multivariate_normal(means[1], cov, N)\n",
    "\n",
    "filename = 'pla1.pdf'\n",
    "with PdfPages(filename) as pdf: \n",
    "    plt.plot(X0[:, 0], X0[:, 1], 'ws', mec = 'k', markersize = 8, alpha = .8)\n",
    "    plt.plot(X1[:, 0], X1[:, 1], 'ko', mec = 'k', markersize = 8, alpha = .8)\n",
    "    plt.plot([3.5], [2.5], 'k^', markersize = 10, alpha = .5)\n",
    "    plt.text(3.6, 2.5, r'?', fontsize=15)\n",
    "    plt.axis('equal')\n",
    "    plt.ylim(0, 3)\n",
    "    plt.xlim(2, 4)\n",
    "\n",
    "    # hide tikcs \n",
    "    cur_axes = plt.gca()\n",
    "    cur_axes.axes.get_xaxis().set_ticks([])\n",
    "    cur_axes.axes.get_yaxis().set_ticks([])\n",
    "\n",
    "    plt.xlabel('$x_1$', fontsize = 20)\n",
    "    plt.ylabel('$x_2$', fontsize = 20)\n",
    "    \n",
    "    pdf.savefig(bbox_inches='tight')\n",
    "    plt.show()\n"
   ]
  },
  {
   "cell_type": "code",
   "execution_count": 3,
   "metadata": {},
   "outputs": [
    {
     "data": {
      "image/png": "[encoded data removed]",
      "text/plain": [
       "<Figure size 432x288 with 1 Axes>"
      ]
     },
     "metadata": {},
     "output_type": "display_data"
    }
   ],
   "source": [
    "# plot points\n",
    "plt.plot(X0[:, 0], X0[:, 1], 'ws', mec = 'k', markersize = 8, alpha = .8)\n",
    "plt.plot(X1[:, 0], X1[:, 1], 'ko', mec = 'k', markersize = 8, alpha = .8)\n",
    "plt.plot([3.5], [2.5], 'k^', markersize = 10, alpha = .5)\n",
    "plt.axis('equal')\n",
    "# axis limits\n",
    "plt.ylim(0, 3)\n",
    "plt.xlim(2, 4)\n",
    "\n",
    "# fill region colors\n",
    "x1 = np.arange(-10,10,0.1)\n",
    "y1 = 2*x1 - 4\n",
    "y2 = 10*x1\n",
    "filename = 'pla2.pdf'\n",
    "with PdfPages(filename) as pdf: \n",
    "    plt.plot(x1, y1, 'k')\n",
    "    plt.fill_between(x1, y1,  hatch = '.', edgecolor=\"gray\", facecolor = 'white', alpha = .4)\n",
    "    plt.fill_between(x1, y1, y2, hatch = '+', edgecolor=\"gray\", \n",
    "                     facecolor = 'white', alpha = .4)\n",
    "    \n",
    "#     plt.fill_between([0,1],[0,1], color=\"none\", hatch=\"X\", edgecolor=\"b\", linewidth=0.0)\n",
    "\n",
    "    # hide tikcs \n",
    "    cur_axes = plt.gca()\n",
    "    cur_axes.axes.get_xaxis().set_ticks([])\n",
    "    cur_axes.axes.get_yaxis().set_ticks([])\n",
    "\n",
    "    plt.xlabel('$x_1$', fontsize = 20)\n",
    "    plt.ylabel('$x_2$', fontsize = 20)\n",
    "\n",
    "    pdf.savefig(bbox_inches='tight')\n",
    "    plt.show()"
   ]
  },
  {
   "cell_type": "code",
   "execution_count": 4,
   "metadata": {},
   "outputs": [
    {
     "data": {
      "image/png": "[encoded data removed]",
      "text/plain": [
       "<Figure size 432x288 with 1 Axes>"
      ]
     },
     "metadata": {},
     "output_type": "display_data"
    }
   ],
   "source": [
    "# plot points\n",
    "plt.plot(X0[:, 0], X0[:, 1], 'ws', mec = 'k', markersize = 8, alpha = .8)\n",
    "plt.plot(X1[:, 0], X1[:, 1], 'ko', mec = 'k', markersize = 8, alpha = .8)\n",
    "plt.plot([3.5], [2.5], 'k^', markersize = 10, alpha = .5)\n",
    "plt.axis('equal')\n",
    "# axis limits\n",
    "plt.ylim(0, 3)\n",
    "plt.xlim(2, 4)\n",
    "\n",
    "# fill region colors\n",
    "x1 = np.arange(-10,10,0.1)\n",
    "y1 = 2*x1 - 4\n",
    "y2 = 1.8*x1 -4\n",
    "y3 = 1.2*x1 - 2\n",
    "filename = 'pla6.pdf'\n",
    "with PdfPages(filename) as pdf: \n",
    "    plt.plot(x1, y1, 'k')\n",
    "    plt.plot(x1, y2, 'k')\n",
    "    plt.plot(x1, y3, 'k')\n",
    "\n",
    "    # hide tikcs \n",
    "    cur_axes = plt.gca()\n",
    "    cur_axes.axes.get_xaxis().set_ticks([])\n",
    "    cur_axes.axes.get_yaxis().set_ticks([])\n",
    "\n",
    "    plt.xlabel('$x_1$', fontsize = 20)\n",
    "    plt.ylabel('$x_2$', fontsize = 20)\n",
    "\n",
    "    pdf.savefig(bbox_inches='tight')\n",
    "    plt.show()"
   ]
  },
  {
   "cell_type": "code",
   "execution_count": 8,
   "metadata": {},
   "outputs": [
    {
     "data": {
      "image/png": "[encoded data removed]",
      "text/plain": [
       "<Figure size 432x288 with 1 Axes>"
      ]
     },
     "metadata": {},
     "output_type": "display_data"
    }
   ],
   "source": [
    "filename = 'pla7.pdf'\n",
    "with PdfPages(filename) as pdf: \n",
    "    # plot points\n",
    "    # plot points\n",
    "    plt.plot(X0[:, 0], X0[:, 1], 'ws', mec = 'k', markersize = 8, alpha = .8)\n",
    "    plt.plot(X1[:, 0], X1[:, 1], 'ko', mec = 'k', markersize = 8, alpha = .8)\n",
    "\n",
    "    plt.plot([3.5], [1.5], 'ws', mec = 'k', markersize = 10, alpha = .8)\n",
    "    plt.plot([1.5], [1.5], 'ko', mec = 'k', markersize = 10, alpha = .8)\n",
    "    plt.axis('equal')\n",
    "    # axis limits\n",
    "    plt.ylim(0, 3)\n",
    "    plt.xlim(2, 4)\n",
    "\n",
    "    # fill region colors\n",
    "    x1 = np.arange(-10,10,0.1)\n",
    "    y1 = 2*x1 - 4\n",
    "    y2 = 1.8*x1 -4\n",
    "    y3 = 1.2*x1 - 2\n",
    "    plt.plot(x1, y1, 'k')\n",
    "\n",
    "\n",
    "    # hide tikcs \n",
    "    cur_axes = plt.gca()\n",
    "    cur_axes.axes.get_xaxis().set_ticks([])\n",
    "    cur_axes.axes.get_yaxis().set_ticks([])\n",
    "\n",
    "    plt.xlabel('$x_1$', fontsize = 20)\n",
    "    plt.ylabel('$x_2$', fontsize = 20)\n",
    "\n",
    "    pdf.savefig(bbox_inches='tight')\n",
    "    plt.show()"
   ]
  },
  {
   "cell_type": "code",
   "execution_count": 6,
   "metadata": {},
   "outputs": [
    {
     "data": {
      "image/png": "[encoded data removed]",
      "text/plain": [
       "<Figure size 432x288 with 1 Axes>"
      ]
     },
     "metadata": {},
     "output_type": "display_data"
    }
   ],
   "source": [
    "filename = 'pla4.pdf'\n",
    "with PdfPages(filename) as pdf: \n",
    "    # plot points\n",
    "    # plot points\n",
    "    plt.plot(X0[:, 0], X0[:, 1], 'ws', mec = 'k', markersize = 8, alpha = .8)\n",
    "    plt.plot(X1[:, 0], X1[:, 1], 'ko', mec = 'k', markersize = 8, alpha = .8)\n",
    "\n",
    "    plt.plot([3.5], [2.5], 'k^', markersize = 10, alpha = .5)\n",
    "    plt.axis('equal')\n",
    "    # axis limits\n",
    "    plt.ylim(0, 3)\n",
    "    plt.xlim(2, 4)\n",
    "\n",
    "    # fill region colors\n",
    "    x1 = np.arange(-10,10,0.1)\n",
    "    y1 = 2*x1 - 4\n",
    "    y2 = 10*x1\n",
    "    plt.plot(x1, y1, 'k')\n",
    "    plt.fill_between(x1, y1,  hatch = '.', edgecolor=\"gray\", facecolor = 'white', alpha = .3)\n",
    "    plt.fill_between(x1, y1, y2, hatch = '+', edgecolor=\"gray\", \n",
    "                     facecolor = 'white', alpha = .4)\n",
    "\n",
    "    # hide tikcs \n",
    "    cur_axes = plt.gca()\n",
    "    cur_axes.axes.get_xaxis().set_ticks([])\n",
    "    cur_axes.axes.get_yaxis().set_ticks([])\n",
    "\n",
    "    plt.xlabel('$x_1$', fontsize = 20)\n",
    "    plt.ylabel('$x_2$', fontsize = 20)\n",
    "\n",
    "\n",
    "    plt.text(1.8, .1, r'+', fontsize=20)\n",
    "    plt.text(2.2, .1, r'-', fontsize=30)\n",
    "\n",
    "    plt.text(2.35, 2.25, r'$w_1x_1 + w_2x_2 + w_0 = 0$', fontsize=16, rotation = 63.5)\n",
    "    pdf.savefig(bbox_inches='tight')\n",
    "    plt.show()"
   ]
  },
  {
   "cell_type": "code",
   "execution_count": 7,
   "metadata": {},
   "outputs": [
    {
     "data": {
      "image/png": "[encoded data removed]",
      "text/plain": [
       "<Figure size 432x288 with 1 Axes>"
      ]
     },
     "metadata": {},
     "output_type": "display_data"
    }
   ],
   "source": [
    "filename = 'pla3.pdf'\n",
    "with PdfPages(filename) as pdf: \n",
    "    # plot points\n",
    "    fig, ax = plt.subplots()\n",
    "\n",
    "    plt.plot(X0[:, 0], X0[:, 1], 'ws', mec = 'k', markersize = 8, alpha = .8)\n",
    "    plt.plot(X1[:, 0], X1[:, 1], 'ko', mec = 'k', markersize = 8, alpha = .8)\n",
    "\n",
    "    plt.axis('equal')\n",
    "    # axis limits\n",
    "    plt.ylim(0, 3)\n",
    "    plt.xlim(2, 4)\n",
    "\n",
    "    # fill region colors\n",
    "    x1 = np.arange(-10,10,0.1)\n",
    "    w1 = .4\n",
    "    w2 = -1\n",
    "    w0 = .5\n",
    "    y1 = w1*x1 + w2 + 1.5\n",
    "    y2 = 10*x1\n",
    "    plt.plot(x1, y1, 'k')\n",
    "    plt.fill_between(x1, y1,  hatch = '.', edgecolor=\"gray\", facecolor = 'white', alpha = .3)\n",
    "    plt.fill_between(x1, y1, y2, hatch = '+', edgecolor=\"gray\", \n",
    "                     facecolor = 'white', alpha = .4)\n",
    "    # hide tikcs \n",
    "    cur_axes = plt.gca()\n",
    "    cur_axes.axes.get_xaxis().set_ticks([])\n",
    "    cur_axes.axes.get_yaxis().set_ticks([])\n",
    "\n",
    "    plt.xlabel('$x_1$', fontsize = 20)\n",
    "    plt.ylabel('$x_2$', fontsize = 20)\n",
    "\n",
    "    plt.text(1, 1, r'+', fontsize=20)\n",
    "    plt.text(1.2, .8, r'-', fontsize=30)\n",
    "\n",
    "\n",
    "    # find misclassified points\n",
    "    M = []\n",
    "    for p in X0:\n",
    "        if w1*p[0] + w2*p[1] + w0 > 0:\n",
    "            M.append(p)\n",
    "    for p in X1:\n",
    "        if w1*p[0] + w2*p[1] + w0 < 0:\n",
    "            M.append(p)\n",
    "    # add circles around misclassified points\n",
    "    for m in M:\n",
    "        circle = plt.Circle((m[0], m[1]), 0.1, color='k', fill = False)\n",
    "        ax.add_artist(circle)\n",
    "\n",
    "    plt.text(1.65, 1.6, r'$w_1x_1 + w_2x_2 + w_0 = 0$', fontsize=13, rotation = 22)\n",
    "    pdf.savefig(bbox_inches='tight')\n",
    "    plt.show()"
   ]
  },
  {
   "cell_type": "code",
   "execution_count": null,
   "metadata": {
    "collapsed": true
   },
   "outputs": [],
   "source": []
  }
 ],
 "metadata": {
  "kernelspec": {
   "display_name": "Python 2",
   "language": "python",
   "name": "python2"
  },
  "language_info": {
   "codemirror_mode": {
    "name": "ipython",
    "version": 2
   },
   "file_extension": ".py",
   "mimetype": "text/x-python",
   "name": "python",
   "nbconvert_exporter": "python",
   "pygments_lexer": "ipython2",
   "version": "2.7.13"
  },
  "latex_envs": {
   "LaTeX_envs_menu_present": true,
   "autoclose": false,
   "autocomplete": true,
   "bibliofile": "biblio.bib",
   "cite_by": "apalike",
   "current_citInitial": 1,
   "eqLabelWithNumbers": true,
   "eqNumInitial": 1,
   "hotkeys": {
    "equation": "Ctrl-E",
    "itemize": "Ctrl-I"
   },
   "labels_anchors": false,
   "latex_user_defs": false,
   "report_style_numbering": false,
   "user_envs_cfg": false
  },
  "toc": {
   "nav_menu": {},
   "number_sections": true,
   "sideBar": true,
   "skip_h1_title": false,
   "title_cell": "Table of Contents",
   "title_sidebar": "Contents",
   "toc_cell": false,
   "toc_position": {},
   "toc_section_display": true,
   "toc_window_display": true
  }
 },
 "nbformat": 4,
 "nbformat_minor": 2
}
