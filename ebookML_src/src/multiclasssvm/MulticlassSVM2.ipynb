{
 "cells": [
  {
   "cell_type": "code",
   "execution_count": 1,
   "metadata": {},
   "outputs": [
    {
     "name": "stdout",
     "output_type": "stream",
     "text": [
      "X_train shape       =  (49000, 3073)\n",
      "X_val shape         =  (1000, 3073)\n",
      "X_test shape        =  (10000, 3073)\n"
     ]
    }
   ],
   "source": [
    "from __future__ import print_function \n",
    "import random\n",
    "import numpy as np\n",
    "from cs231n.data_utils import load_CIFAR10\n",
    "\n",
    "# Load CIFAR 10 dataset\n",
    "cifar10_dir = 'cs231n/datasets/cifar-10-batches-py'\n",
    "X_train, y_train, X_test, y_test = load_CIFAR10(cifar10_dir)\n",
    "\n",
    "# Tạo một tập validation từ X_train \n",
    "from sklearn.model_selection import train_test_split\n",
    "X_train, X_val, y_train, y_val = train_test_split(X_train, y_train, test_size= 1000)\n",
    "# print('(New) X_train shape = ', X_train.shape)\n",
    "# print('X_val shape         = ', X_val.shape)\n",
    "\n",
    "# Feature engineering \n",
    "# mean image of all training images\n",
    "img_mean = np.mean(X_train, axis = 0)\n",
    "\n",
    "def feature_engineering(X):\n",
    "    X -= img_mean # zero-centered\n",
    "    N = X.shape[0] # number of data point \n",
    "    X = X.reshape(N, -1) # vectorizetion \n",
    "    return np.concatenate((X, np.ones((N, 1))), axis = 1) # bias trick \n",
    "\n",
    "X_train = feature_engineering(X_train)\n",
    "X_val = feature_engineering(X_val)\n",
    "X_test = feature_engineering(X_test)\n",
    "\n",
    "print('X_train shape       = ', X_train.shape)\n",
    "print('X_val shape         = ', X_val.shape)\n",
    "print('X_test shape        = ', X_test.shape)"
   ]
  },
  {
   "cell_type": "code",
   "execution_count": 2,
   "metadata": {
    "collapsed": true
   },
   "outputs": [],
   "source": [
    "# idx = np.random.randint(0, X_train.shape[0], replace = False)\n",
    "n_dev = 10\n",
    "X_dev = X_train[:n_dev]\n",
    "y_dev = y_train[:n_dev]"
   ]
  },
  {
   "cell_type": "code",
   "execution_count": 3,
   "metadata": {},
   "outputs": [
    {
     "name": "stdout",
     "output_type": "stream",
     "text": [
      "Loss with reg = 0  : 35.28762795657478\n",
      "Loss with reg = 0.1: 479.8668472462361\n"
     ]
    }
   ],
   "source": [
    "import numpy as np\n",
    "\n",
    "# naive way to calculate loss and grad\n",
    "def svm_loss_naive(W, X, y, reg):\n",
    "    ''' calculate loss and gradient of the loss function at W\n",
    "    W: 2d numpy array of shape (d, C). The weight matrix.\n",
    "    X: 2d numpy array of shape (N, d). The training data \n",
    "    y: 1d numpy array of shape (N,). The training label\n",
    "    reg: a positive number. The regularization parameter\n",
    "    '''\n",
    "    d, C = W.shape \n",
    "    N = X.shape[0]\n",
    "    \n",
    "    ## naive loss and grad\n",
    "    loss = 0 \n",
    "    dW = np.zeros_like(W)\n",
    "    for n in xrange(N):\n",
    "        xn = X[n]\n",
    "        score = xn.dot(W)\n",
    "        for j in xrange(C):\n",
    "            if j == y[n]:\n",
    "                continue \n",
    "            margin = 1 - score[y[n]] + score[j]\n",
    "            if margin > 0:\n",
    "                loss += margin \n",
    "                dW[:, j] += xn \n",
    "                dW[:, y[n]] -= xn\n",
    "    \n",
    "    loss /= N \n",
    "    loss += 0.5*reg*np.sum(W * W) \n",
    "    dW /= N \n",
    "    dW += reg*W\n",
    "    return loss, dW\n",
    "    \n",
    "# random, small data\n",
    "d, C, N = 3073, 3, 10\n",
    "reg = .1 \n",
    "W_rand = np.random.randn(d, C)\n",
    "X_rand = np.random.randn(N, d)\n",
    "y_rand = np.random.randint(0, C, N)\n",
    "\n",
    "# sanity check\n",
    "print('Loss with reg = 0  :', svm_loss_naive(W_rand, X_rand, y_rand, 0)[0])\n",
    "print('Loss with reg = 0.1:',svm_loss_naive(W_rand, X_rand, y_rand, .1)[0])"
   ]
  },
  {
   "cell_type": "code",
   "execution_count": 4,
   "metadata": {},
   "outputs": [
    {
     "name": "stdout",
     "output_type": "stream",
     "text": [
      "gradient difference: 0.000002\n"
     ]
    }
   ],
   "source": [
    "f = lambda W: svm_loss_naive(W, X_rand, y_rand, .1)[0]\n",
    "\n",
    "# for checking if calculated grad is correct\n",
    "def numerical_grad_general(W, f):\n",
    "    eps = 1e-6\n",
    "    g = np.zeros_like(W)\n",
    "    # flatening variable -> 1d. Then we need \n",
    "    # only one for loop\n",
    "    W_flattened = W.flatten()\n",
    "    g_flattened = np.zeros_like(W_flattened)\n",
    "    \n",
    "    for i in xrange(W.size):\n",
    "        W_p = W_flattened.copy()\n",
    "        W_n = W_flattened.copy()\n",
    "        W_p[i] += eps \n",
    "        W_n[i] -= eps \n",
    "        \n",
    "        # back to shape of W \n",
    "        W_p = W_p.reshape(W.shape)\n",
    "        W_n = W_n.reshape(W.shape)\n",
    "        g_flattened[i] = (f(W_p) - f(W_n))/(2*eps)\n",
    "        \n",
    "    # convert back to original shape\n",
    "    return g_flattened.reshape(W.shape) \n",
    "\n",
    "# compare two ways of computing gradient\n",
    "g1 = svm_loss_naive(W_rand, X_rand, y_rand, .1)[1]\n",
    "g2 = numerical_grad_general(W_rand, f)\n",
    "print('gradient difference: %f' %np.linalg.norm(g1 - g2)) # this should be very small"
   ]
  },
  {
   "cell_type": "code",
   "execution_count": 5,
   "metadata": {
    "collapsed": true
   },
   "outputs": [],
   "source": [
    "# more efficient way to compute loss and grad\n",
    "def svm_loss_vectorized(W, X, y, reg):\n",
    "    d, C = W.shape \n",
    "    N = X.shape[0]\n",
    "    loss = 0 \n",
    "    dW = np.zeros_like(W)\n",
    "    \n",
    "    Z = X.dot(W) # shape of (N, C)\n",
    "    id0 = np.arange(Z.shape[0])\n",
    "    correct_class_score = Z[id0, y].reshape(N, 1) # shape of (N, 1)\n",
    "    margins = np.maximum(0, Z - correct_class_score + 1) # shape of (N, C)\n",
    "    margins[id0, y] = 0\n",
    "    loss = np.sum(margins)\n",
    "    loss /= N \n",
    "    loss += 0.5 * reg * np.sum(W * W)\n",
    "    \n",
    "    F = (margins > 0).astype(int)# shape of (N, C)\n",
    "    F[np.arange(F.shape[0]), y] = np.sum(-F, axis = 1)\n",
    "    dW = X.T.dot(F)/N + reg*W\n",
    "    return loss, dW"
   ]
  },
  {
   "cell_type": "code",
   "execution_count": 6,
   "metadata": {},
   "outputs": [
    {
     "name": "stdout",
     "output_type": "stream",
     "text": [
      "Naive      -- run time: 7.02469491959 (s)\n",
      "Vectorized -- run time: 0.443039894104 (s)\n",
      "loss difference: 1.7826096154749393e-10\n",
      "gradient difference: 1.9876779340328013e-10\n"
     ]
    }
   ],
   "source": [
    "d, C = 3073, 10\n",
    "reg = .1 \n",
    "W_rand = np.random.randn(d, C)\n",
    "import time \n",
    "t1 = time.time()\n",
    "l1, dW1 = svm_loss_naive(W_rand, X_train, y_train, reg)\n",
    "t2 = time.time()\n",
    "print('Naive      -- run time:', t2 - t1, '(s)')\n",
    "\n",
    "t1 = time.time()\n",
    "l2, dW2 = svm_loss_vectorized(W_rand, X_train, y_train, reg)\n",
    "t2 = time.time()\n",
    "print('Vectorized -- run time:', t2 - t1, '(s)')\n",
    "print('loss difference:', np.linalg.norm(l1 - l2))\n",
    "print('gradient difference:', np.linalg.norm(dW1 - dW2))"
   ]
  },
  {
   "cell_type": "code",
   "execution_count": 7,
   "metadata": {},
   "outputs": [
    {
     "data": {
      "text/plain": [
       "(49000, 3073)"
      ]
     },
     "execution_count": 7,
     "metadata": {},
     "output_type": "execute_result"
    }
   ],
   "source": [
    "X_train.shape"
   ]
  },
  {
   "cell_type": "code",
   "execution_count": 8,
   "metadata": {},
   "outputs": [
    {
     "name": "stdout",
     "output_type": "stream",
     "text": [
      "epoch 5/50, loss = 5.518609\n",
      "epoch 10/50, loss = 5.433403\n",
      "epoch 15/50, loss = 4.934789\n",
      "epoch 20/50, loss = 4.773220\n",
      "epoch 25/50, loss = 4.866825\n",
      "epoch 30/50, loss = 4.678948\n",
      "epoch 35/50, loss = 4.475465\n",
      "epoch 40/50, loss = 4.868525\n",
      "epoch 45/50, loss = 4.622545\n"
     ]
    }
   ],
   "source": [
    "# Mini-batch gradient descent\n",
    "def multiclass_svm_GD(X, y, Winit, reg, lr=.1, \\\n",
    "        batch_size = 1000, num_iters = 50, print_every = 10):\n",
    "    W = Winit \n",
    "    loss_history = []\n",
    "    for it in xrange(num_iters):\n",
    "        mix_ids = np.random.permutation(X.shape[0])\n",
    "        n_batches = int(np.ceil(X.shape[0]/float(batch_size)))\n",
    "        for ib in range(n_batches):\n",
    "            ids = mix_ids[batch_size*ib: min(batch_size*(ib+1), X.shape[0])]\n",
    "            X_batch = X[ids]\n",
    "            y_batch = y[ids]\n",
    "            lossib, dW = svm_loss_vectorized(W, X_batch, y_batch, reg)\n",
    "            loss_history.append(lossib)\n",
    "            W -= lr*dW \n",
    "        if it % print_every == 0 and it > 0:\n",
    "           print('epoch %d/%d, loss = %f' %(it, num_iters, loss_history[-1]))\n",
    "    return W, loss_history \n",
    "\n",
    "d, C = X_train.shape[1], 10\n",
    "reg = .1 \n",
    "W = 0.00001*np.random.randn(d, C)\n",
    "\n",
    "W, loss_history = multiclass_svm_GD(X_train, y_train, W, reg, lr = 1e-8, num_iters = 50, print_every = 5)"
   ]
  },
  {
   "cell_type": "code",
   "execution_count": 11,
   "metadata": {},
   "outputs": [
    {
     "data": {
      "image/png": "[encoded data removed]",
      "text/plain": [
       "<Figure size 432x288 with 1 Axes>"
      ]
     },
     "metadata": {},
     "output_type": "display_data"
    }
   ],
   "source": [
    "import matplotlib.pyplot as plt\n",
    "from matplotlib.backends.backend_pdf import PdfPages\n",
    "\n",
    "# plot loss as a function of iteration\n",
    "with PdfPages('loss_history.pdf') as pdf:\n",
    "    plt.plot(loss_history, 'k')\n",
    "    plt.xlabel('number of iterations', fontsize = 13)\n",
    "    plt.ylabel('loss function', fontsize = 13)\n",
    "    pdf.savefig()\n",
    "    plt.show()"
   ]
  },
  {
   "cell_type": "code",
   "execution_count": 125,
   "metadata": {
    "collapsed": true
   },
   "outputs": [],
   "source": [
    "def multisvm_predict(W, X):\n",
    "    Z = X.dot(W)\n",
    "    return np.argmax(Z, axis=1)\n",
    "\n",
    "def evaluate(W, X, y):\n",
    "    y_pred = multisvm_predict(W, X)\n",
    "    acc = 100*np.mean(y_pred == y)\n",
    "    return acc \n",
    "# y_pred = multisvm_predict(W, X_test)\n",
    "# acc = 100*np.mean(y_pred == y_test)\n",
    "# print('training accuracy: %.2f %%' % acc)\n"
   ]
  },
  {
   "cell_type": "code",
   "execution_count": 126,
   "metadata": {},
   "outputs": [
    {
     "name": "stdout",
     "output_type": "stream",
     "text": [
      "lr = 1.000000e-09, reg = 1.000000e-01, loss = 4.422479, validation acc = 40.30\n",
      "lr = 1.000000e-09, reg = 1.000000e-02, loss = 4.474095, validation acc = 40.70\n",
      "lr = 1.000000e-09, reg = 1.000000e-03, loss = 4.240144, validation acc = 40.90\n",
      "lr = 1.000000e-09, reg = 1.000000e-04, loss = 4.257436, validation acc = 41.40\n",
      "lr = 1.000000e-08, reg = 1.000000e-01, loss = 4.482856, validation acc = 41.50\n",
      "lr = 1.000000e-08, reg = 1.000000e-02, loss = 4.036566, validation acc = 41.40\n",
      "lr = 1.000000e-08, reg = 1.000000e-03, loss = 4.085053, validation acc = 41.00\n",
      "lr = 1.000000e-08, reg = 1.000000e-04, loss = 3.891934, validation acc = 41.40\n",
      "lr = 1.000000e-07, reg = 1.000000e-01, loss = 3.947408, validation acc = 41.50\n",
      "lr = 1.000000e-07, reg = 1.000000e-02, loss = 4.088984, validation acc = 41.90\n",
      "lr = 1.000000e-07, reg = 1.000000e-03, loss = 4.073365, validation acc = 41.70\n",
      "lr = 1.000000e-07, reg = 1.000000e-04, loss = 4.006863, validation acc = 41.80\n",
      "lr = 1.000000e-06, reg = 1.000000e-01, loss = 3.851727, validation acc = 41.90\n",
      "lr = 1.000000e-06, reg = 1.000000e-02, loss = 3.941015, validation acc = 41.80\n",
      "lr = 1.000000e-06, reg = 1.000000e-03, loss = 3.995598, validation acc = 41.60\n",
      "lr = 1.000000e-06, reg = 1.000000e-04, loss = 3.857822, validation acc = 41.80\n"
     ]
    }
   ],
   "source": [
    "lrs = [1e-9, 1e-8, 1e-7, 1e-6]\n",
    "regs = [0.1, 0.01, 0.001, 0.0001]\n",
    "best_W = 0\n",
    "best_acc = 0\n",
    "for lr in lrs:\n",
    "    for reg in regs: \n",
    "        W, loss_history = multiclass_svm_GD(X_train, y_train, W, reg, \\\n",
    "                                            lr = 1e-8, num_iters = 100, print_every = 1e20)\n",
    "        acc = evaluate(W, X_val, y_val)\n",
    "        print('lr = %e, reg = %e, loss = %f, validation acc = %.2f' %(lr, reg, loss_history[-1], acc))\n",
    "        if acc > best_acc:\n",
    "            best_acc = acc \n",
    "            best_W = W \n",
    "            "
   ]
  },
  {
   "cell_type": "code",
   "execution_count": 127,
   "metadata": {},
   "outputs": [
    {
     "data": {
      "text/plain": [
       "(3073, 10)"
      ]
     },
     "execution_count": 127,
     "metadata": {},
     "output_type": "execute_result"
    }
   ],
   "source": [
    "best_W.shape"
   ]
  },
  {
   "cell_type": "code",
   "execution_count": 128,
   "metadata": {},
   "outputs": [
    {
     "name": "stdout",
     "output_type": "stream",
     "text": [
      "Accuracy on test data =  39.88\n"
     ]
    }
   ],
   "source": [
    "acc = evaluate(best_W, X_test, y_test)\n",
    "print('Accuracy on test data = %2f %%'%acc)"
   ]
  },
  {
   "cell_type": "code",
   "execution_count": 136,
   "metadata": {},
   "outputs": [
    {
     "name": "stdout",
     "output_type": "stream",
     "text": [
      "lr = 1.000000e-07, reg = 1.000000e-04, loss = 4.432414, validation acc = 39.90\n",
      "lr = 1.000000e-07, reg = 1.000000e-05, loss = 4.110013, validation acc = 40.10\n",
      "lr = 1.000000e-07, reg = 1.000000e-06, loss = 4.212654, validation acc = 40.80\n",
      "lr = 1.000000e-06, reg = 1.000000e-04, loss = 4.240339, validation acc = 41.30\n",
      "lr = 1.000000e-06, reg = 1.000000e-05, loss = 4.295307, validation acc = 41.00\n",
      "lr = 1.000000e-06, reg = 1.000000e-06, loss = 4.209549, validation acc = 41.20\n"
     ]
    }
   ],
   "source": [
    "lrs = [1e-7, 1e-6]\n",
    "regs = [0.0001, 1e-5, 1e-6]\n",
    "best_W = 0\n",
    "best_acc = 0\n",
    "for lr in lrs:\n",
    "    for reg in regs: \n",
    "        W, loss_history = multiclass_svm_GD(X_train, y_train, W, reg, \\\n",
    "                                            lr = 1e-8, num_iters = 100, print_every = 1e20)\n",
    "        acc = evaluate(W, X_val, y_val)\n",
    "        print('lr = %e, reg = %e, loss = %f, validation acc = %.2f' %(lr, reg, loss_history[-1], acc))\n",
    "        if acc > best_acc:\n",
    "            best_acc = acc \n",
    "            best_W = W "
   ]
  },
  {
   "cell_type": "code",
   "execution_count": 156,
   "metadata": {},
   "outputs": [
    {
     "name": "stdout",
     "output_type": "stream",
     "text": [
      "1 %\n"
     ]
    }
   ],
   "source": [
    "a = 1\n",
    "print('%d %%' %a)"
   ]
  },
  {
   "cell_type": "code",
   "execution_count": null,
   "metadata": {
    "collapsed": true
   },
   "outputs": [],
   "source": []
  }
 ],
 "metadata": {
  "kernelspec": {
   "display_name": "Python 2",
   "language": "python",
   "name": "python2"
  },
  "language_info": {
   "codemirror_mode": {
    "name": "ipython",
    "version": 2
   },
   "file_extension": ".py",
   "mimetype": "text/x-python",
   "name": "python",
   "nbconvert_exporter": "python",
   "pygments_lexer": "ipython2",
   "version": "2.7.13"
  },
  "latex_envs": {
   "LaTeX_envs_menu_present": true,
   "autoclose": false,
   "autocomplete": true,
   "bibliofile": "biblio.bib",
   "cite_by": "apalike",
   "current_citInitial": 1,
   "eqLabelWithNumbers": true,
   "eqNumInitial": 1,
   "hotkeys": {
    "equation": "Ctrl-E",
    "itemize": "Ctrl-I"
   },
   "labels_anchors": false,
   "latex_user_defs": false,
   "report_style_numbering": false,
   "user_envs_cfg": false
  },
  "toc": {
   "nav_menu": {},
   "number_sections": true,
   "sideBar": true,
   "skip_h1_title": false,
   "title_cell": "Table of Contents",
   "title_sidebar": "Contents",
   "toc_cell": false,
   "toc_position": {},
   "toc_section_display": true,
   "toc_window_display": true
  }
 },
 "nbformat": 4,
 "nbformat_minor": 2
}
