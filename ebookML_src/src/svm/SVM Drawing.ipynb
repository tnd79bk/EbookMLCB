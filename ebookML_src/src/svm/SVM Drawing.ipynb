{
 "cells": [
  {
   "cell_type": "code",
   "execution_count": 17,
   "metadata": {
    "collapsed": true
   },
   "outputs": [],
   "source": [
    "from matplotlib import rc\n",
    "rc('font',**{'family':'sans-serif','sans-serif':['Helvetica']})\n",
    "## for Palatino and other serif fonts use:\n",
    "#rc('font',**{'family':'serif','serif':['Palatino']})\n",
    "rc('text', usetex=True)"
   ]
  },
  {
   "cell_type": "markdown",
   "metadata": {},
   "source": [
    "# Random boundary"
   ]
  },
  {
   "cell_type": "code",
   "execution_count": 18,
   "metadata": {},
   "outputs": [
    {
     "data": {
      "image/png": "[encoded data removed]",
      "text/plain": [
       "<Figure size 432x288 with 1 Axes>"
      ]
     },
     "metadata": {},
     "output_type": "display_data"
    }
   ],
   "source": [
    "# generate data\n",
    "# list of points \n",
    "import numpy as np \n",
    "import matplotlib.pyplot as plt\n",
    "from scipy.spatial.distance import cdist\n",
    "np.random.seed(22)\n",
    "from matplotlib.backends.backend_pdf import PdfPages\n",
    "\n",
    "means = [[2, 2], [4, 2]]\n",
    "cov = [[.3, .2], [.2, .3]]\n",
    "N = 10\n",
    "X0 = np.random.multivariate_normal(means[0], cov, N)\n",
    "X1 = np.random.multivariate_normal(means[1], cov, N)\n",
    "X = np.concatenate((X0.T, X1.T), axis = 1)\n",
    "y = np.concatenate((np.ones((1, N)), -1*np.ones((1, N))), axis = 1)\n",
    "\n",
    "with PdfPages('svm1.pdf') as pdf:\n",
    "    # plot points\n",
    "    plt.plot(X0[:, 0], X0[:, 1], 'ws', markersize = 8, mec = 'k', alpha = .8)\n",
    "    plt.plot(X1[:, 0], X1[:, 1], 'ko', markersize = 8, alpha = .8)\n",
    "    # plt.plot([3.5], [2.5], 'k^', markersize = 10, alpha = .8)\n",
    "    plt.axis('equal')\n",
    "    # axis limits\n",
    "    plt.ylim(0, 3)\n",
    "    plt.xlim(2, 4)\n",
    "\n",
    "    # fill region colors\n",
    "    x1 = np.arange(-10,10,0.1)\n",
    "    y1 = 2*x1 - 4\n",
    "    y2 = 1.8*x1 -4\n",
    "    y3 = 1.2*x1 - 2\n",
    "    plt.plot(x1, y1, 'k')\n",
    "    plt.plot(x1, y2, 'k')\n",
    "    plt.plot(x1, y3, 'k')\n",
    "\n",
    "    # hide tikcs \n",
    "    cur_axes = plt.gca()\n",
    "    cur_axes.axes.get_xaxis().set_ticks([])\n",
    "    cur_axes.axes.get_yaxis().set_ticks([])\n",
    "\n",
    "    plt.xlabel('$x_1$', fontsize = 20)\n",
    "    plt.ylabel('$x_2$', fontsize = 20)\n",
    "    pdf.savefig()\n",
    "#     plt.savefig('svm1.png', bbox_inches='tight', dpi = 600)\n",
    "    plt.show()"
   ]
  },
  {
   "cell_type": "code",
   "execution_count": 19,
   "metadata": {},
   "outputs": [
    {
     "data": {
      "image/png": "[encoded data removed]",
      "text/plain": [
       "<Figure size 432x288 with 1 Axes>"
      ]
     },
     "metadata": {},
     "output_type": "display_data"
    }
   ],
   "source": [
    "with PdfPages('svm2.pdf') as pdf:\n",
    "    fig, ax = plt.subplots()\n",
    "\n",
    "    # plot points\n",
    "    plt.plot(X0[:, 0], X0[:, 1], 'ws', markersize = 8, mec = 'k', alpha = .8)\n",
    "    plt.plot(X1[:, 0], X1[:, 1], 'ko', markersize = 8, alpha = .8)\n",
    "    # plt.plot([3.5], [2.5], 'k^', markersize = 10, alpha = .8)\n",
    "    plt.axis('equal')\n",
    "    # axis limits\n",
    "    plt.ylim(0, 3)\n",
    "    plt.xlim(2, 4)\n",
    "\n",
    "    # fill region colors\n",
    "    x1 = np.arange(-10,10,0.1)\n",
    "    # y1 = 2*x1 - 4\n",
    "    # y1 = 1.8*x1 -4\n",
    "    y1 = 1.2*x1 - 2\n",
    "    # plt.plot(x1, y1, 'k')\n",
    "    plt.plot(x1, y1, 'k', linewidth = 3)\n",
    "    # plt.plot(x1, y3, 'k')\n",
    "\n",
    "    # hide tikcs \n",
    "    cur_axes = plt.gca()\n",
    "    cur_axes.axes.get_xaxis().set_ticks([])\n",
    "    cur_axes.axes.get_yaxis().set_ticks([])\n",
    "\n",
    "    # perpendicular drawing \n",
    "    def perpen(x1, y1, x2, y2, x3, y3):\n",
    "        # find (x4, y4) in the lind (x1, y1) -- (x2, y2) which is the projection of (x3, y3)\n",
    "        k = ((y2-y1) * (x3-x1) - (x2-x1) * (y3-y1)) / ((y2-y1)**2 + (x2-x1)**2)\n",
    "        x4 = x3 - k * (y2-y1)\n",
    "        y4 = y3 + k * (x2-x1)\n",
    "        return (x4, y4)\n",
    "\n",
    "    def parallel(x1, y1, x2, y2, x3, y3):\n",
    "        # find y4 and y5 such that the line (x1,y4) -- (x2,y5) parallels with \n",
    "        # (x1, y1) -- (x2, y2) and goes through (x3, y3)\n",
    "        k = (y2 - y1)/(x2 - x1) \n",
    "        c = y3 - k*x3 \n",
    "        y4 = k*x1 + c \n",
    "        y5 = k*x2 + c \n",
    "        return (y4, y5)\n",
    "\n",
    "    xx1 = x1[0] \n",
    "    xx2 = x1[-1]\n",
    "    yy1 = y1[0]\n",
    "    yy2 = y1[-1]\n",
    "\n",
    "\n",
    "    S = [0, 12]\n",
    "    for m in S:\n",
    "        x3 = X[0, m]\n",
    "        y3 = X[1, m]\n",
    "        circle = plt.Circle((x3, y3), 0.1, color='k', fill = False)\n",
    "        ax.add_artist(circle)\n",
    "        (x4, y4) = perpen(xx1, yy1, xx2, yy2, x3, y3)\n",
    "        plt.plot([x3, x4], [y3, y4], color = 'k')\n",
    "\n",
    "        (y5, y6) = parallel(xx1, yy1, xx2, yy2, x3, y3)\n",
    "        plt.plot([xx1, xx2], [y5, y6], color = 'k')\n",
    "\n",
    "    plt.text(2.7, 2.6, '$\\mathbf{w}^T\\mathbf{x} + b = 0$', fontsize=20, rotation = 50)\n",
    "    plt.text(1, 2, r'$+$', fontsize=30)\n",
    "    plt.text(5, 2, r'$-$', fontsize=30)\n",
    "\n",
    "    plt.xlabel('$x_1$', fontsize = 15)\n",
    "    plt.ylabel('$x_2$', fontsize = 15)\n",
    "\n",
    "#     plt.savefig('svm2.png', bbox_inches='tight', dpi = 600)\n",
    "    pdf.savefig()\n",
    "    plt.show()"
   ]
  },
  {
   "cell_type": "code",
   "execution_count": 20,
   "metadata": {},
   "outputs": [
    {
     "data": {
      "image/png": "[encoded data removed]",
      "text/plain": [
       "<Figure size 432x288 with 1 Axes>"
      ]
     },
     "metadata": {},
     "output_type": "display_data"
    }
   ],
   "source": [
    "plt.plot(X0[:, 0], X0[:, 1], 'ws', markersize = 8, mec = 'k', alpha = .8)\n",
    "plt.plot(X1[:, 0], X1[:, 1], 'ko', markersize = 8, alpha = .8)\n",
    "plt.plot([3.5], [2.5], 'k^', markersize = 10, alpha = .5)\n",
    "plt.text(3.6, 2.5, r'?', fontsize=15)\n",
    "plt.axis('equal')\n",
    "plt.ylim(0, 3)\n",
    "plt.xlim(2, 4)\n",
    "\n",
    "# hide tikcs \n",
    "cur_axes = plt.gca()\n",
    "cur_axes.axes.get_xaxis().set_ticks([])\n",
    "cur_axes.axes.get_yaxis().set_ticks([])\n",
    "\n",
    "plt.xlabel('$x_1$', fontsize = 20)\n",
    "plt.ylabel('$x_2$', fontsize = 20)\n",
    "plt.savefig('pla1.png', bbox_inches='tight', dpi = 300)\n",
    "plt.show()"
   ]
  },
  {
   "cell_type": "code",
   "execution_count": 21,
   "metadata": {},
   "outputs": [
    {
     "name": "stdout",
     "output_type": "stream",
     "text": [
      "(20, 2)\n"
     ]
    }
   ],
   "source": [
    "X = np.concatenate((X0.T, X1.T), axis = 1)\n",
    "y = np.concatenate((np.ones((1, N)), -1*np.ones((1, N))), axis = 1)\n",
    "# Xbar \n",
    "# X = np.concatenate((np.ones((1, 2*N)), X), axis = 0)\n",
    "\n",
    "from cvxopt import matrix, solvers\n",
    "# build P\n",
    "Xbar = np.concatenate((X0, -X1), axis = 0)\n",
    "print(Xbar.shape)\n",
    "Q = matrix(Xbar.dot(Xbar.T))\n",
    "p = matrix(-np.ones((2*N, 1)))\n",
    "# build A, b, G, h \n",
    "G = matrix(-np.eye(2*N))\n",
    "h = matrix(np.zeros((2*N, 1)))\n",
    "A = matrix(y) \n",
    "b = matrix(np.zeros((1, 1))) \n",
    "solvers.options['show_progress'] = False\n",
    "sol = solvers.qp(Q, p, G, h, A, b)\n",
    "\n",
    "l = np.array(sol['x'])"
   ]
  },
  {
   "cell_type": "code",
   "execution_count": 22,
   "metadata": {},
   "outputs": [
    {
     "name": "stdout",
     "output_type": "stream",
     "text": [
      "[0, 2, 12]\n"
     ]
    }
   ],
   "source": [
    "# calculate w and b\n",
    "w = Xbar.T.dot(l)\n",
    "b = 0\n",
    "NS = 0\n",
    "S = []\n",
    "# print(y.shape)\n",
    "for i in range(2*N):\n",
    "    if l[i] > 1e-8:\n",
    "        NS += 1 \n",
    "        S.append(i)\n",
    "\n",
    "for n in range(NS):\n",
    "    tmp = 0 \n",
    "    for m in range(NS):\n",
    "        tmp += l[S[m]]*y[:, S[m]]*X[:, S[n]].T.dot(X[:, S[m]])\n",
    "    b += y[:, S[n]] - tmp \n",
    "print(S)\n",
    "b/= NS "
   ]
  },
  {
   "cell_type": "code",
   "execution_count": 28,
   "metadata": {},
   "outputs": [
    {
     "data": {
      "image/png": "[encoded data removed]",
      "text/plain": [
       "<Figure size 432x288 with 1 Axes>"
      ]
     },
     "metadata": {},
     "output_type": "display_data"
    }
   ],
   "source": [
    "with PdfPages('svm4.pdf') as pdf:\n",
    "    # draw\n",
    "    # plot points\n",
    "    fig, ax = plt.subplots()\n",
    "\n",
    "    x1 = np.arange(-10, 10, 0.1)\n",
    "    y1 = -w[0, 0]/w[1, 0]*x1 - b/w[1, 0]\n",
    "    y2 = -w[0, 0]/w[1, 0]*x1 - (b-1)/w[1, 0]\n",
    "    y3 = -w[0, 0]/w[1, 0]*x1 - (b+1)/w[1, 0]\n",
    "    plt.plot(x1, y1, 'k', linewidth = 3)\n",
    "    plt.plot(x1, y2, 'k')\n",
    "    plt.plot(x1, y3, 'k')\n",
    "\n",
    "\n",
    "    y4 = 10*x1\n",
    "    plt.plot(x1, y1, 'k')\n",
    "#     plt.fill_between(x1, y1, color='red', alpha='0.1')\n",
    "#     plt.fill_between(x1, y1, y4, color = 'blue', alpha = '.1')\n",
    "    plt.fill_between(x1, y1,  hatch = '.', edgecolor=\"gray\", facecolor = 'white', alpha = .4)\n",
    "    plt.fill_between(x1, y1, y4, hatch = '+', edgecolor=\"gray\", \n",
    "                     facecolor = 'white', alpha = .4)\n",
    "\n",
    "    plt.plot(X0[:, 0], X0[:, 1], 'ws', markersize = 8, mec = 'k', alpha = .8)\n",
    "    plt.plot(X1[:, 0], X1[:, 1], 'ko', markersize = 8, alpha = .8)\n",
    "\n",
    "    plt.axis('equal')\n",
    "    plt.ylim(0, 3)\n",
    "    plt.xlim(2, 4)\n",
    "\n",
    "    # hide tikcs \n",
    "    cur_axes = plt.gca()\n",
    "    cur_axes.axes.get_xaxis().set_ticks([])\n",
    "    cur_axes.axes.get_yaxis().set_ticks([])\n",
    "\n",
    "    # add circles around support vectors \n",
    "    for m in S:\n",
    "        circle = plt.Circle((X[0, m], X[1, m] ), 0.1, color='k', fill = False)\n",
    "        ax.add_artist(circle)\n",
    "\n",
    "\n",
    "#     plt.xlabel('$x_1$', fontsize = 20)\n",
    "#     plt.ylabel('$x_2$', fontsize = 20)\n",
    "#     plt.savefig('svm4.png', bbox_inches='tight', dpi = 300)\n",
    "    pdf.savefig()\n",
    "    plt.show()"
   ]
  },
  {
   "cell_type": "code",
   "execution_count": 24,
   "metadata": {},
   "outputs": [
    {
     "data": {
      "image/png": "[encoded data removed]",
      "text/plain": [
       "<Figure size 432x288 with 1 Axes>"
      ]
     },
     "metadata": {},
     "output_type": "display_data"
    }
   ],
   "source": [
    "with PdfPages('svm3.pdf') as pdf:\n",
    "    # draw\n",
    "    # plot points\n",
    "    fig, ax = plt.subplots()\n",
    "\n",
    "    x1 = np.arange(-10, 10, 0.1)\n",
    "    y1 = -w[0, 0]/w[1, 0]*x1 - b/w[1, 0]\n",
    "    y2 = -w[0, 0]/w[1, 0]*x1 - (b-1)/w[1, 0]\n",
    "    y3 = -w[0, 0]/w[1, 0]*x1 - (b+1)/w[1, 0]\n",
    "    plt.plot(x1, y1, 'k', linewidth = 3)\n",
    "    plt.plot(x1, y2, 'k')\n",
    "    plt.plot(x1, y3, 'k')\n",
    "\n",
    "\n",
    "    y4 = 10*x1\n",
    "    plt.plot(x1, y1, 'k')\n",
    "    # plt.fill_between(x1, y1, color='red', alpha='0.1')\n",
    "    # plt.fill_between(x1, y1, y4, color = 'blue', alpha = '.1')\n",
    "\n",
    "    S1 = np.arange(0, N)\n",
    "    S2 = np.arange(0, N)\n",
    "    plt.plot(X0[S1, 0], X0[S1, 1], 'ws', markersize = 8, mec = 'k', alpha = .8)\n",
    "    plt.plot(X1[S2, 0], X1[S2, 1], 'ko', markersize = 8, alpha = .8)\n",
    "\n",
    "    plt.axis('equal')\n",
    "    plt.ylim(-.5, 2.5\n",
    "            )\n",
    "    plt.xlim(2, 4)\n",
    "\n",
    "    # hide tikcs \n",
    "    cur_axes = plt.gca()\n",
    "    cur_axes.axes.get_xaxis().set_ticks([])\n",
    "    cur_axes.axes.get_yaxis().set_ticks([])\n",
    "    plt.text(1, 2, r'$+$', fontsize=30)\n",
    "    plt.text(5, 2, r'$-$', fontsize=30)\n",
    "    # add circles around support vectors \n",
    "    for m in S:\n",
    "        circle = plt.Circle((X[0, m], X[1, m] ), 0.1, color='k', fill = False)\n",
    "        ax.add_artist(circle)\n",
    "\n",
    "    plt.text(2.2, 1.7, '$\\mathbf{w}^T\\mathbf{x} + b = 0$', fontsize=20, rotation = 72)\n",
    "    plt.text(1.52, 1.1, '$\\mathbf{w}^T\\mathbf{x}+ b = 1$', fontsize=20, rotation = 72)\n",
    "    plt.text(2.47, 1.15, '$\\mathbf{w}^T\\mathbf{x} + b = -1$', fontsize=20, rotation = 72)\n",
    "\n",
    "#     plt.xlabel('$x_1$', fontsize = 20)\n",
    "#     plt.ylabel('$x_2$', fontsize = 20)\n",
    "#     plt.savefig('svm3.png', bbox_inches='tight', dpi = 300)\n",
    "    pdf.savefig()\n",
    "    plt.show()"
   ]
  },
  {
   "cell_type": "markdown",
   "metadata": {},
   "source": [
    "##### "
   ]
  },
  {
   "cell_type": "code",
   "execution_count": 27,
   "metadata": {},
   "outputs": [
    {
     "data": {
      "image/png": "[encoded data removed]",
      "text/plain": [
       "<Figure size 432x288 with 1 Axes>"
      ]
     },
     "metadata": {},
     "output_type": "display_data"
    }
   ],
   "source": [
    "with PdfPages('svm6.pdf') as pdf:\n",
    "    # draw\n",
    "    # plot points\n",
    "    fig, ax = plt.subplots()\n",
    "\n",
    "    x1 = np.arange(-10, 10, 0.1)\n",
    "    y1 = -w[0, 0]/w[1, 0]*x1 - b/w[1, 0]\n",
    "    y2 = -w[0, 0]/w[1, 0]*x1 - (b-1)/w[1, 0]\n",
    "    y3 = -w[0, 0]/w[1, 0]*x1 - (b+1)/w[1, 0]\n",
    "    plt.plot(x1, y1, 'k', linewidth = 3)\n",
    "    plt.plot(x1, y2, 'k')\n",
    "    plt.plot(x1, y3, 'k')\n",
    "\n",
    "\n",
    "    y4 = 10*x1\n",
    "    plt.plot(x1, y1, 'k')\n",
    "    # plt.fill_between(x1, y1, color='red', alpha='0.1')\n",
    "    # plt.fill_between(x1, y1, y4, color = 'blue', alpha = '.1')\n",
    "\n",
    "    S1 = np.arange(0, 10)\n",
    "    S2 = np.arange(0, 10)\n",
    "    plt.plot(X0[S1, 0], X0[S1, 1], 'bs', markersize = 8, alpha = .8)\n",
    "    plt.plot(X1[S2, 0], X1[S2, 1], 'ro', markersize = 8, alpha = .8)\n",
    "\n",
    "    plt.axis('equal')\n",
    "    plt.ylim(-.5, 2.5\n",
    "            )\n",
    "    plt.xlim(2, 4)\n",
    "\n",
    "    # hide tikcs \n",
    "    cur_axes = plt.gca()\n",
    "    cur_axes.axes.get_xaxis().set_ticks([])\n",
    "    cur_axes.axes.get_yaxis().set_ticks([])\n",
    "\n",
    "    # add circles around support vectors \n",
    "    S = [0, 2, 12]\n",
    "    for m in S:\n",
    "        circle = plt.Circle((X[0, m], X[1, m] ), 0.1, color='k', fill = False)\n",
    "        ax.add_artist(circle)\n",
    "\n",
    "    plt.text(2.2, 1.8, '$\\mathbf{w}^T\\mathbf{x} + b = 0$', fontsize=20, rotation = 72)\n",
    "#     plt.text(1.52, 1.25, '$w_1x_1 + w_2x_2 + b = 1$', fontsize=15, rotation = 72)\n",
    "#     plt.text(2.47, 1.25, '$w_1x_1 + w_2x_2 + b = -1$', fontsize=15, rotation = 72)\n",
    "    plt.text(1, 2, r'$+$', fontsize=30)\n",
    "    plt.text(5, 2, r'$-$', fontsize=30)\n",
    "\n",
    "#     plt.xlabel('$x_1$', fontsize = 20)\n",
    "#     plt.ylabel('$x_2$', fontsize = 20)\n",
    "#     plt.savefig('svm3.png', bbox_inches='tight', dpi = 300)\n",
    "    pdf.savefig()\n",
    "    plt.show()"
   ]
  },
  {
   "cell_type": "code",
   "execution_count": null,
   "metadata": {
    "collapsed": true
   },
   "outputs": [],
   "source": []
  },
  {
   "cell_type": "code",
   "execution_count": null,
   "metadata": {
    "collapsed": true
   },
   "outputs": [],
   "source": []
  },
  {
   "cell_type": "code",
   "execution_count": null,
   "metadata": {
    "collapsed": true
   },
   "outputs": [],
   "source": []
  },
  {
   "cell_type": "code",
   "execution_count": null,
   "metadata": {
    "collapsed": true
   },
   "outputs": [],
   "source": []
  },
  {
   "cell_type": "code",
   "execution_count": null,
   "metadata": {
    "collapsed": true
   },
   "outputs": [],
   "source": []
  }
 ],
 "metadata": {
  "kernelspec": {
   "display_name": "Python 2",
   "language": "python",
   "name": "python2"
  },
  "language_info": {
   "codemirror_mode": {
    "name": "ipython",
    "version": 2
   },
   "file_extension": ".py",
   "mimetype": "text/x-python",
   "name": "python",
   "nbconvert_exporter": "python",
   "pygments_lexer": "ipython2",
   "version": "2.7.13"
  },
  "latex_envs": {
   "LaTeX_envs_menu_present": true,
   "autoclose": false,
   "autocomplete": true,
   "bibliofile": "biblio.bib",
   "cite_by": "apalike",
   "current_citInitial": 1,
   "eqLabelWithNumbers": true,
   "eqNumInitial": 1,
   "hotkeys": {
    "equation": "Ctrl-E",
    "itemize": "Ctrl-I"
   },
   "labels_anchors": false,
   "latex_user_defs": false,
   "report_style_numbering": false,
   "user_envs_cfg": false
  },
  "toc": {
   "nav_menu": {},
   "number_sections": true,
   "sideBar": true,
   "skip_h1_title": false,
   "title_cell": "Table of Contents",
   "title_sidebar": "Contents",
   "toc_cell": false,
   "toc_position": {},
   "toc_section_display": true,
   "toc_window_display": true
  }
 },
 "nbformat": 4,
 "nbformat_minor": 2
}
