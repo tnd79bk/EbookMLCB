{
 "cells": [
  {
   "cell_type": "code",
   "execution_count": 18,
   "metadata": {},
   "outputs": [],
   "source": [
    "from matplotlib import rc\n",
    "rc('font',**{'family':'sans-serif','sans-serif':['Helvetica']})\n",
    "rc('text', usetex=True)"
   ]
  },
  {
   "cell_type": "code",
   "execution_count": 19,
   "metadata": {},
   "outputs": [
    {
     "data": {
      "image/png": "[encoded data removed]",
      "text/plain": [
       "<Figure size 432x288 with 1 Axes>"
      ]
     },
     "metadata": {},
     "output_type": "display_data"
    }
   ],
   "source": [
    "# list of points \n",
    "from __future__ import print_function \n",
    "\n",
    "import numpy as np \n",
    "import matplotlib.pyplot as plt\n",
    "from matplotlib.backends.backend_pdf import PdfPages\n",
    "np.random.seed(22)\n",
    "\n",
    "means = [[2, 2], [4, 2]]\n",
    "cov = [[.3, .2], [.2, .3]]\n",
    "N = 10\n",
    "\n",
    "X0 = np.array([.5, .75, 1, 1.25, 1.5, 1.75, 2, 2.5, 3, 3.5])\n",
    "y0 = np.zeros_like(X0)\n",
    "\n",
    "X1 = np.array([1.75, 2.25, 2.75, 3.25, 4, 4.25, 4.5, 4.75, 5, 5.5])\n",
    "y1 = np.ones_like(X1)\n",
    "filename = 'ex1.pdf'\n",
    "with PdfPages(filename) as pdf:\n",
    "\n",
    "    plt.plot(X0, y0, 'ko', mec = 'k', markersize = 8)\n",
    "    plt.plot(X1, y1, 'ws', mec = 'k',  markersize = 8)\n",
    "\n",
    "    plt.axis([0, 6, -.5, 1.5])\n",
    "    cur_axes = plt.gca()\n",
    "    plt.xlabel('hours studying', fontsize = 14)\n",
    "    plt.ylabel('fail(0) / pass(1)', fontsize = 14)\n",
    "    cur_axes.axes.get_yaxis().set_ticks([0, 1])\n",
    "    plt.axes().set_aspect('equal')\n",
    "    plt.tick_params(axis='both', which='major', labelsize=14)\n",
    "    \n",
    "    pdf.savefig(bbox_inches='tight')\n",
    "    plt.show()\n"
   ]
  },
  {
   "cell_type": "code",
   "execution_count": 20,
   "metadata": {},
   "outputs": [
    {
     "data": {
      "image/png": "[encoded data removed]",
      "text/plain": [
       "<Figure size 432x288 with 1 Axes>"
      ]
     },
     "metadata": {},
     "output_type": "display_data"
    }
   ],
   "source": [
    "# list of points \n",
    "import numpy as np \n",
    "import matplotlib.pyplot as plt\n",
    "from scipy.spatial.distance import cdist\n",
    "np.random.seed(22)\n",
    "\n",
    "# means = [[2, 2], [4, 2]]\n",
    "# cov = [[.3, .2], [.2, .3]]\n",
    "# N = 10\n",
    "# X0 = np.random.multivariate_normal(means[0], cov, N)\n",
    "# X1 = np.random.multivariate_normal(means[1], cov, N)\n",
    "\n",
    "x = np.linspace(-5, 5, 1000)\n",
    "y1 = (np.sign(x) +1)/2\n",
    "y2 = 1./(1 + np.exp(-x))\n",
    "y3 = np.exp(x) /(np.exp(x) + np.exp(-x))\n",
    "\n",
    "filename = 'activation.pdf'\n",
    "with PdfPages(filename) as pdf:\n",
    "\n",
    "    l1, = plt.plot(x, y1, 'k-', linewidth = 2, label = \"hard threshold\")\n",
    "    l2, = plt.plot(x, y2, 'k:', linewidth = 2, label = \"$f(s) = \\\\frac{1}{1 + e^{-s}}$\")\n",
    "    l3, = plt.plot(x, y3, 'k-.', linewidth = 2, label = \"$f(s) = \\\\frac{e^{s}}{e^{s} + e^{-s}}$\")\n",
    "    l4, = plt.plot([-1, 1], [-1, 2], 'k--', linewidth = 2, label = \"linear\")\n",
    "    plt.plot([-4, 0], [1, 1], 'k--', linewidth = 0.5)\n",
    "\n",
    "    # handles, labels = ax.get_legend_handles_labels()\n",
    "    plt.legend(handles = [l1, l2, l3, l4], fontsize = 12)\n",
    "\n",
    "    cur_axes = plt.gca()\n",
    "    cur_axes.axes.get_xaxis().set_ticks([])\n",
    "    cur_axes.axes.get_yaxis().set_ticks([0, 1])\n",
    "\n",
    "    plt.axis([-3, 5, -.6, 1.6])\n",
    "    plt.axes().set_aspect('equal')\n",
    "    plt.tick_params(labelsize=14)\n",
    "    # plt.savefig('activation.png', bbox_inches='tight', dpi = 300)\n",
    "    pdf.savefig(bbox_inches='tight')\n",
    "    plt.show()\n",
    "\n",
    "    plt.close(\"all\")"
   ]
  },
  {
   "cell_type": "markdown",
   "metadata": {},
   "source": [
    "## 3. Ví dụ với Python\n",
    "### Ví dụ với dữ liệu 1 chiều\n",
    "Quay trở lại với ví dụ nêu ở phần Giới thiệu. Trước tiên ta cần khai báo vài thư viện và tạo dữ liệu:"
   ]
  },
  {
   "cell_type": "code",
   "execution_count": 21,
   "metadata": {},
   "outputs": [],
   "source": [
    "# To support both python 2 and python 3\n",
    "from __future__ import division, print_function, unicode_literals\n",
    "import numpy as np \n",
    "import matplotlib.pyplot as plt\n",
    "np.random.seed(2)\n",
    "\n",
    "X = np.array([[0.50, 0.75, 1.00, 1.25, 1.50, 1.75, 1.75, 2.00, 2.25, 2.50, \n",
    "              2.75, 3.00, 3.25, 3.50, 4.00, 4.25, 4.50, 4.75, 5.00, 5.50]])\n",
    "y = np.array([0, 0, 0, 0, 0, 0, 1, 0, 1, 0, 1, 0, 1, 0, 1, 1, 1, 1, 1, 1])\n",
    "\n",
    "# extened data \n",
    "X = np.concatenate((np.ones((1, X.shape[1])), X), axis = 0)"
   ]
  },
  {
   "cell_type": "markdown",
   "metadata": {},
   "source": [
    "### Các hàm cần thiết cho logistic sigmoid regression"
   ]
  },
  {
   "cell_type": "code",
   "execution_count": 33,
   "metadata": {},
   "outputs": [],
   "source": [
    "from __future__ import print_function\n",
    "import numpy as np \n",
    "\n",
    "\n",
    "def sigmoid(S):\n",
    "    \"\"\"\n",
    "    S: an numpy array\n",
    "    return sigmoid function of each element of S\n",
    "    \"\"\"\n",
    "    return 1/(1 + np.exp(-S))\n",
    "\n",
    "def bias_trick(X):\n",
    "    N = X.shape[0]\n",
    "    return np.concatenate((X, np.ones((N, 1))), axis = 1)\n",
    "\n",
    "def prob(w, X):\n",
    "    \"\"\"\n",
    "    X: a 2d numpy array of shape (N, d). N datatpoint, each with size d\n",
    "    w: a 1d numpy array of shape (d)\n",
    "    \"\"\"\n",
    "    return sigmoid(X.dot(w))\n",
    "\n",
    "def loss(w, X, y, lam):\n",
    "    \"\"\"\n",
    "    X, w as in prob \n",
    "    y: a 1d numpy array of shape (N). Each elem = 0 or 1 \n",
    "    \"\"\"\n",
    "    a = prob(w, X)\n",
    "    loss_0 = -np.mean(y*np.log(a) + (1-y)*np.log(1-a))\n",
    "    weight_decay = 0.5*lam/X.shape[0]*np.sum(w*w) \n",
    "    return loss_0 + weight_decay \n",
    "\n",
    "def predict(w, X, threshold = 0.5):\n",
    "    \"\"\"\n",
    "    predict output of each row of X\n",
    "    X: a numpy array of shape (N, d)\n",
    "    threshold: a threshold between 0 and 1 \n",
    "    \"\"\"\n",
    "    res = np.zeros(X.shape[0])\n",
    "    res[np.where(prob(w, X) > threshold)[0]] = 1\n",
    "    return res \n",
    "\n",
    "\n",
    "\n",
    "def logistic_regression(w_init, X, y, lam = 0.001, lr = 0.1, nepoches = 2000):\n",
    "    # lam - regularization paramether, lr - learning rate, nepoches - number of epoches\n",
    "    N, d = X.shape[0], X.shape[1]\n",
    "    w = w_old = w_init \n",
    "    # store history of loss in loss_hist\n",
    "    loss_hist = [loss(w_init, X, y, lam)]\n",
    "    ep = 0 \n",
    "    while ep < nepoches: \n",
    "        ep += 1\n",
    "        mix_ids = np.random.permutation(N)\n",
    "        for i in mix_ids:\n",
    "            xi = X[i]\n",
    "            yi = y[i]\n",
    "            ai = sigmoid(xi.dot(w))\n",
    "            # update\n",
    "            w = w - lr*((ai - yi)*xi + lam*w)\n",
    "        loss_hist.append(loss(w, X, y, lam))\n",
    "        if np.linalg.norm(w - w_old)/d < 1e-6:\n",
    "            break \n",
    "        w_old = w\n",
    "    return w, loss_hist "
   ]
  },
  {
   "cell_type": "code",
   "execution_count": 34,
   "metadata": {},
   "outputs": [
    {
     "name": "stdout",
     "output_type": "stream",
     "text": [
      "Solution of Logistic Regression: [ 1.54337021 -4.06486702]\n",
      "Final loss: 0.40244672497461936\n"
     ]
    },
    {
     "data": {
      "image/png": "[encoded data removed]",
      "text/plain": [
       "<Figure size 432x288 with 1 Axes>"
      ]
     },
     "metadata": {},
     "output_type": "display_data"
    }
   ],
   "source": [
    "np.random.seed(2)\n",
    "X = np.array([[0.50, 0.75, 1.00, 1.25, 1.50, 1.75, 1.75, 2.00, 2.25, 2.50, \n",
    "        2.75, 3.00, 3.25, 3.50, 4.00, 4.25, 4.50, 4.75, 5.00, 5.50]]).T\n",
    "y = np.array([0, 0, 0, 0, 0, 0, 1, 0, 1, 0, 1, 0, 1, 0, 1, 1, 1, 1, 1, 1])\n",
    "\n",
    "# bias trick \n",
    "Xbar = np.concatenate((X, np.ones((X.shape[0], 1))), axis = 1)\n",
    "w_init = np.random.randn(Xbar.shape[1])\n",
    "lam = 0.0001\n",
    "w, loss_hist = logistic_regression(w_init, Xbar, y, lam, lr = 0.05, nepoches = 500)\n",
    "print('Solution of Logistic Regression:', w)\n",
    "print('Final loss:', loss(w, Xbar, y, lam))\n",
    "\n",
    "filename = 'log_reg_loss.pdf'\n",
    "with PdfPages(filename) as pdf:\n",
    "\n",
    "    plt.plot(loss_hist, 'k')\n",
    "    plt.xlabel('number of iterations', fontsize = 13)\n",
    "    plt.ylabel('loss function', fontsize = 13)\n",
    "    plt.tick_params(axis='both', which='major', labelsize=13)\n",
    "    pdf.savefig(bbox_inches='tight')\n",
    "    plt.show()"
   ]
  },
  {
   "cell_type": "code",
   "execution_count": 35,
   "metadata": {},
   "outputs": [
    {
     "name": "stdout",
     "output_type": "stream",
     "text": [
      "[ 1.50440482 -4.0770035 ]\n",
      "0.40154114026634635\n"
     ]
    }
   ],
   "source": [
    "from sklearn.linear_model import LogisticRegression \n",
    "model = LogisticRegression(C = 2/lam)\n",
    "model.fit(X, y)\n",
    "\n",
    "w2 = np.array([model.coef_[0][0], model.intercept_[0]])\n",
    "print(w2)\n",
    "print(loss(w2, Xbar, y, lam))"
   ]
  },
  {
   "cell_type": "code",
   "execution_count": 36,
   "metadata": {},
   "outputs": [
    {
     "data": {
      "text/plain": [
       "(20, 1)"
      ]
     },
     "execution_count": 36,
     "metadata": {},
     "output_type": "execute_result"
    }
   ],
   "source": [
    "X.shape "
   ]
  },
  {
   "cell_type": "code",
   "execution_count": 37,
   "metadata": {},
   "outputs": [
    {
     "data": {
      "image/png": "[encoded data removed]",
      "text/plain": [
       "<Figure size 432x288 with 1 Axes>"
      ]
     },
     "metadata": {},
     "output_type": "display_data"
    }
   ],
   "source": [
    "X0 = X[np.where(y == 0), 0][0]\n",
    "y0 = y[np.where(y == 0)]\n",
    "X1 = X[np.where(y == 1), 0][0]\n",
    "y1 = y[np.where(y == 1)]\n",
    "\n",
    "plt.plot(X0, y0, 'ko', mec = 'k', markersize = 8)\n",
    "plt.plot(X1, y1, 'ws', mec = 'k', markersize = 8)\n",
    "\n",
    "plt.axis([0, 6, -.5, 1.5])\n",
    "cur_axes = plt.gca()\n",
    "plt.xlabel('hours studying', fontsize = 14)\n",
    "plt.ylabel('fail(0) / pass(1)', fontsize = 14)\n",
    "cur_axes.axes.get_yaxis().set_ticks([0, 1])\n",
    "plt.axes().set_aspect('equal')\n",
    "plt.tick_params(axis='both', which='major', labelsize=14)\n",
    "plt.plot(X.reshape(-1), prob(w, Xbar), 'k^')\n",
    "# pdf.savefig(bbox_inches='tight')\n",
    "plt.show()\n"
   ]
  },
  {
   "cell_type": "code",
   "execution_count": 38,
   "metadata": {},
   "outputs": [
    {
     "data": {
      "image/png": "[encoded data removed]",
      "text/plain": [
       "<Figure size 432x288 with 1 Axes>"
      ]
     },
     "metadata": {},
     "output_type": "display_data"
    }
   ],
   "source": [
    "\n",
    "filename = 'log_reg_res.pdf'\n",
    "with PdfPages(filename) as pdf:\n",
    "    plt.plot(X0, y0, 'ko', mec = 'k', markersize = 8, markeredgecolor = 'k')\n",
    "    plt.plot(X1, y1, 'ws', mec = 'k', markersize = 8, markeredgecolor = 'k')\n",
    "\n",
    "    xx = np.linspace(0, 6, 1000)\n",
    "    w0 = w[1]\n",
    "    w1 = w[0]\n",
    "    threshold = -w0/w1\n",
    "    yy = sigmoid(w0 + w1*xx)\n",
    "\n",
    "    plt.plot(xx, yy, 'k-', linewidth = 2)\n",
    "    plt.plot(threshold, .5, 'k^', markersize = 8, markeredgecolor = 'k')\n",
    "    plt.xlabel('studying hours', fontsize = 13)\n",
    "    plt.ylabel('predicted probability of pass', fontsize = 13)\n",
    "    plt.axis([0, 6, -.5, 1.5])\n",
    "    plt.tick_params(axis='both', which='major', labelsize=13)\n",
    "    pdf.savefig(bbox_inches='tight')\n",
    "    plt.show()"
   ]
  },
  {
   "cell_type": "markdown",
   "metadata": {},
   "source": [
    "### Với kết quả tìm được, đầu ra \\\\(y\\\\) có thể được dự đoán theo công thức: `y = sigmoid(-4.1 + 1.537*x)`. Với dữ liệu trong tập training, kết quả là:"
   ]
  },
  {
   "cell_type": "code",
   "execution_count": 39,
   "metadata": {},
   "outputs": [
    {
     "name": "stdout",
     "output_type": "stream",
     "text": [
      "[[1.15839447e-01]\n",
      " [4.52757811e-02]\n",
      " [1.68755975e-02]\n",
      " [6.17480652e-03]\n",
      " [2.24388410e-03]\n",
      " [8.13364681e-04]\n",
      " [8.13364681e-04]\n",
      " [2.94559761e-04]\n",
      " [1.06639406e-04]\n",
      " [3.86020119e-05]\n",
      " [1.39727956e-05]\n",
      " [5.05766255e-06]\n",
      " [1.83068626e-06]\n",
      " [6.62639162e-07]\n",
      " [8.68165833e-08]\n",
      " [3.14242835e-08]\n",
      " [1.13743887e-08]\n",
      " [4.11709357e-09]\n",
      " [1.49023037e-09]\n",
      " [1.95244474e-10]]\n"
     ]
    }
   ],
   "source": [
    "print(sigmoid(np.dot(w[-1].T, X)))"
   ]
  },
  {
   "cell_type": "markdown",
   "metadata": {},
   "source": [
    "Biểu diễn kết quả này trên đồ thị ta có:"
   ]
  },
  {
   "cell_type": "code",
   "execution_count": 40,
   "metadata": {},
   "outputs": [
    {
     "data": {
      "text/plain": [
       "array([ 1.54337021, -4.06486702])"
      ]
     },
     "execution_count": 40,
     "metadata": {},
     "output_type": "execute_result"
    }
   ],
   "source": [
    "w "
   ]
  },
  {
   "cell_type": "code",
   "execution_count": 41,
   "metadata": {},
   "outputs": [
    {
     "data": {
      "image/png": "[encoded data removed]",
      "text/plain": [
       "<Figure size 432x288 with 1 Axes>"
      ]
     },
     "metadata": {},
     "output_type": "display_data"
    }
   ],
   "source": [
    "# X0 = X[1, np.where(y == 0)][0]\n",
    "# y0 = y[np.where(y == 0)]\n",
    "# X1 = X[1, np.where(y == 1)][0]\n",
    "# y1 = y[np.where(y == 1)]\n",
    "\n",
    "X0 = X[np.where(y == 0), 0][0]\n",
    "y0 = y[np.where(y == 0)]\n",
    "X1 = X[np.where(y == 1), 0][0]\n",
    "y1 = y[np.where(y == 1)]\n",
    "\n",
    "# plt.plot(X0, y0, 'ro', markersize = 8)\n",
    "# plt.plot(X1, y1, 'bs', markersize = 8)\n",
    "\n",
    "plt.plot(X0, y0, 'ko', mec = 'k', markersize = 8, markeredgecolor = 'k')\n",
    "plt.plot(X1, y1, 'ws', mec = 'k', markersize = 8, markeredgecolor = 'k')\n",
    "\n",
    "\n",
    "xx = np.linspace(0, 6, 1000)\n",
    "# w0 = w[-1][0][0]\n",
    "# w1 = w[-1][1][0]\n",
    "w0 = w[1]\n",
    "w1 = w[0]\n",
    "threshold = -w0/w1\n",
    "yy = sigmoid(w0 + w1*xx)\n",
    "plt.axis([-2, 8, -1, 2])\n",
    "plt.plot(xx, yy, 'k-', linewidth = 2)\n",
    "plt.plot(threshold, .5, 'k^', markersize = 8)\n",
    "plt.xlabel('studying hours')\n",
    "plt.ylabel('predicted probability of pass')\n",
    "plt.savefig('lg_results.png', bbox_inches='tight', dpi = 300)\n",
    "plt.show()"
   ]
  },
  {
   "cell_type": "code",
   "execution_count": null,
   "metadata": {},
   "outputs": [],
   "source": []
  },
  {
   "cell_type": "markdown",
   "metadata": {},
   "source": [
    "Nếu như chỉ có hai output là 'fail' hoặc 'pass', điểm trên đồ thị của hàm sigmoid tương ứng với xác suất 0.5 được chọn làm _hard threshold_ (ngưỡng cứng). Việc này có thể chứng minh khá dễ dàng (tôi sẽ bàn ở phần dưới). "
   ]
  },
  {
   "cell_type": "markdown",
   "metadata": {},
   "source": [
    "### Ví dụ với dữ liệu 2 chiều"
   ]
  },
  {
   "cell_type": "code",
   "execution_count": 14,
   "metadata": {},
   "outputs": [
    {
     "data": {
      "image/png": "[encoded data removed]",
      "text/plain": [
       "<Figure size 432x288 with 1 Axes>"
      ]
     },
     "metadata": {},
     "output_type": "display_data"
    }
   ],
   "source": [
    "# To support both python 2 and python 3\n",
    "from __future__ import division, print_function, unicode_literals\n",
    "# list of points \n",
    "import numpy as np \n",
    "import matplotlib.pyplot as plt\n",
    "from scipy.spatial.distance import cdist\n",
    "np.random.seed(22)\n",
    "\n",
    "means = [[2, 2], [4, 2]]\n",
    "cov = [[.7, 0], [0, .7]]\n",
    "N = 20\n",
    "X0 = np.random.multivariate_normal(means[0], cov, N)\n",
    "X1 = np.random.multivariate_normal(means[1], cov, N)\n",
    "filename = 'logistic_2d.pdf'\n",
    "with PdfPages(filename) as pdf:\n",
    "    plt.plot(X0[:, 0], X0[:, 1], 'ws', mec = 'k', markersize = 8, alpha = 1)\n",
    "    plt.plot(X1[:, 0], X1[:, 1], 'ko', mec = 'k', markersize = 8, alpha = 1)\n",
    "    plt.axis('equal')\n",
    "    plt.ylim(0, 4)\n",
    "    plt.xlim(0, 5)\n",
    "\n",
    "    # hide tikcs \n",
    "    cur_axes = plt.gca()\n",
    "    cur_axes.axes.get_xaxis().set_ticks([])\n",
    "    cur_axes.axes.get_yaxis().set_ticks([])\n",
    "\n",
    "    plt.xlabel('$x_1$', fontsize = 20)\n",
    "    plt.ylabel('$x_2$', fontsize = 20)\n",
    "    pdf.savefig(bbox_inches='tight')\n",
    "    plt.show()"
   ]
  },
  {
   "cell_type": "code",
   "execution_count": 15,
   "metadata": {},
   "outputs": [
    {
     "name": "stdout",
     "output_type": "stream",
     "text": [
      "(20, 2)\n"
     ]
    }
   ],
   "source": [
    "print(X0.shape)"
   ]
  },
  {
   "cell_type": "code",
   "execution_count": 16,
   "metadata": {},
   "outputs": [
    {
     "name": "stdout",
     "output_type": "stream",
     "text": [
      "[-10.69881948   2.4890927    1.60789727]\n"
     ]
    }
   ],
   "source": [
    "X = np.concatenate((X0, X1), axis = 0)\n",
    "y = np.concatenate((np.zeros((1, N)), np.ones((1, N))), axis = 1).T\n",
    "# Xbar \n",
    "Xbar = np.concatenate((np.ones((2*N, 1)), X), axis = 1)\n",
    "\n",
    "eta = .05 \n",
    "d = Xbar.shape[1]\n",
    "w_init = np.random.randn(d)\n",
    "\n",
    "# w = logistic_sigmoid_regression(X, y, w_init, eta, tol = 1e-4, max_count= 10000)\n",
    "\n",
    "w, loss_hist = logistic_regression(w_init, Xbar, y, lam, lr = 0.05, nepoches = 500)\n",
    "print(w)"
   ]
  },
  {
   "cell_type": "code",
   "execution_count": 22,
   "metadata": {},
   "outputs": [
    {
     "data": {
      "image/png": "[encoded data removed]",
      "text/plain": [
       "<Figure size 432x288 with 1 Axes>"
      ]
     },
     "metadata": {},
     "output_type": "display_data"
    }
   ],
   "source": [
    "# Make data.\n",
    "xm = np.arange(-1, 6, 0.025)\n",
    "xlen = len(xm)\n",
    "ym = np.arange(0, 4, 0.025)\n",
    "ylen = len(ym)\n",
    "xm, ym = np.meshgrid(xm, ym)\n",
    "zm = sigmoid(w[0] + w[1]*xm + w[2]*ym)\n",
    "\n",
    "\n",
    "filename = 'logistic_2d_2.pdf'\n",
    "with PdfPages(filename) as pdf:\n",
    "    CS = plt.contourf(xm, ym, zm, 200, cmap='gray')\n",
    "\n",
    "    plt.plot(X0[:, 0], X0[:, 1], 'ws', mec = 'k', markersize = 8, alpha = 1)\n",
    "    plt.plot(X1[:, 0], X1[:, 1], 'ko', mec = 'w', markersize = 8, alpha = 1)\n",
    "    plt.axis('equal')\n",
    "    plt.ylim(0, 4)\n",
    "    plt.xlim(0, 5)\n",
    "\n",
    "    # hide tikcs \n",
    "    cur_axes = plt.gca()\n",
    "    cur_axes.axes.get_xaxis().set_ticks([])\n",
    "    cur_axes.axes.get_yaxis().set_ticks([])\n",
    "\n",
    "    plt.xlabel('$x_1$', fontsize = 20)\n",
    "    plt.ylabel('$x_2$', fontsize = 20)\n",
    "    # plt.savefig('logistic_2d_2.png', bbox_inches='tight', dpi = 300)\n",
    "    pdf.savefig(bbox_inchs = 'tight')\n",
    "    plt.show()"
   ]
  },
  {
   "cell_type": "markdown",
   "metadata": {
    "collapsed": true
   },
   "source": [
    "# Logistic Regression cho bài toán phân biệt chữ số viết tay "
   ]
  },
  {
   "cell_type": "code",
   "execution_count": 42,
   "metadata": {},
   "outputs": [],
   "source": [
    "# for auto-reloading external modules\n",
    "# see http://stackoverflow.com/questions/1907993/autoreload-of-modules-in-ipython\n",
    "%load_ext autoreload\n",
    "%autoreload 2"
   ]
  },
  {
   "cell_type": "code",
   "execution_count": 44,
   "metadata": {},
   "outputs": [
    {
     "name": "stdout",
     "output_type": "stream",
     "text": [
      "Total 70000 samples, each has 784 pixels.\n"
     ]
    }
   ],
   "source": [
    "import numpy as np \n",
    "from sklearn.datasets import fetch_mldata\n",
    "from sklearn.model_selection import train_test_split\n",
    "from sklearn.linear_model import LogisticRegression \n",
    "from sklearn.metrics import accuracy_score\n",
    "mnist = fetch_mldata('MNIST original', data_home='../../data/')\n",
    "N, d = mnist.data.shape\n",
    "print('Total {:d} samples, each has {:d} pixels.'.format(N, d))"
   ]
  },
  {
   "cell_type": "code",
   "execution_count": 45,
   "metadata": {},
   "outputs": [],
   "source": [
    "X_all = mnist.data \n",
    "y_all = mnist.target\n",
    "\n",
    "X0 = X_all[np.where(y_all == 0)[0]] # all digit 0\n",
    "X1 = X_all[np.where(y_all == 1)[0]] # all digit 1\n",
    "y0 = np.zeros(X0.shape[0]) # class 0 label \n",
    "y1 = np.ones(X1.shape[0])  # class 1 label\n",
    "\n",
    "X = np.concatenate((X0, X1), axis = 0) # all digits\n",
    "y = np.concatenate((y0, y1)) # all labels \n",
    "\n",
    "# split train and test \n",
    "X_train, X_test, y_train, y_test = train_test_split(X, y, test_size=2000)"
   ]
  },
  {
   "cell_type": "code",
   "execution_count": 46,
   "metadata": {},
   "outputs": [
    {
     "name": "stdout",
     "output_type": "stream",
     "text": [
      "Accuracy 99.90 %\n"
     ]
    }
   ],
   "source": [
    "model = LogisticRegression(C = 1e5) # C is inverse of lam \n",
    "model.fit(X_train, y_train)\n",
    "\n",
    "y_pred = model.predict(X_test)\n",
    "print(\"Accuracy %.2f %%\" % (100*accuracy_score(y_test, y_pred.tolist())))"
   ]
  },
  {
   "cell_type": "code",
   "execution_count": 26,
   "metadata": {},
   "outputs": [
    {
     "data": {
      "image/png": "[encoded data removed]",
      "text/plain": [
       "<Figure size 432x288 with 1 Axes>"
      ]
     },
     "metadata": {},
     "output_type": "display_data"
    }
   ],
   "source": [
    "mis = np.where((y_pred - y_test) !=0)[0]\n",
    "Xmis = X_test[mis, :]\n",
    "\n",
    "from display_network import * \n",
    "filename = 'mnist_mis.pdf'\n",
    "with PdfPages(filename) as pdf:\n",
    "    plt.axis('off')\n",
    "    A = display_network(Xmis.T, 1, Xmis.shape[0])\n",
    "    f2 = plt.imshow(A, interpolation='nearest' )\n",
    "    plt.gray()\n",
    "    pdf.savefig(bbox_inches='tight')\n",
    "    plt.show()"
   ]
  },
  {
   "cell_type": "code",
   "execution_count": null,
   "metadata": {
    "collapsed": true
   },
   "outputs": [],
   "source": [
    "# all class \n",
    "X_train, X_test, y_train, y_test = train_test_split(X_all, y_all, test_size=10000)\n",
    "model = LogisticRegression(C = 1e5) # C is inverse of lam \n",
    "model.fit(X_train, y_train)\n",
    "y_pred = model.predict(X_test)\n",
    "print(\"Accuracy %.2f %%\" % (100*accuracy_score(y_test, y_pred.tolist())))"
   ]
  },
  {
   "cell_type": "code",
   "execution_count": null,
   "metadata": {
    "collapsed": true
   },
   "outputs": [],
   "source": []
  }
 ],
 "metadata": {
  "kernelspec": {
   "display_name": "Python 2",
   "language": "python",
   "name": "python2"
  },
  "language_info": {
   "codemirror_mode": {
    "name": "ipython",
    "version": 2
   },
   "file_extension": ".py",
   "mimetype": "text/x-python",
   "name": "python",
   "nbconvert_exporter": "python",
   "pygments_lexer": "ipython2",
   "version": "2.7.13"
  },
  "latex_envs": {
   "LaTeX_envs_menu_present": true,
   "autoclose": false,
   "autocomplete": true,
   "bibliofile": "biblio.bib",
   "cite_by": "apalike",
   "current_citInitial": 1,
   "eqLabelWithNumbers": true,
   "eqNumInitial": 1,
   "hotkeys": {
    "equation": "Ctrl-E",
    "itemize": "Ctrl-I"
   },
   "labels_anchors": false,
   "latex_user_defs": false,
   "report_style_numbering": false,
   "user_envs_cfg": false
  },
  "toc": {
   "nav_menu": {},
   "number_sections": true,
   "sideBar": true,
   "skip_h1_title": false,
   "title_cell": "Table of Contents",
   "title_sidebar": "Contents",
   "toc_cell": false,
   "toc_position": {},
   "toc_section_display": true,
   "toc_window_display": true
  }
 },
 "nbformat": 4,
 "nbformat_minor": 2
}
