{
 "cells": [
  {
   "cell_type": "code",
   "execution_count": 1,
   "metadata": {
    "collapsed": true
   },
   "outputs": [],
   "source": [
    "from matplotlib import rc\n",
    "rc('font',**{'family':'sans-serif','sans-serif':['Helvetica']})\n",
    "rc('text', usetex=True)\n",
    "from matplotlib.backends.backend_pdf import PdfPages"
   ]
  },
  {
   "cell_type": "code",
   "execution_count": 2,
   "metadata": {},
   "outputs": [
    {
     "name": "stderr",
     "output_type": "stream",
     "text": [
      "/Library/Frameworks/Python.framework/Versions/2.7/lib/python2.7/site-packages/matplotlib/font_manager.py:1339: UserWarning: findfont: Font family [u'sans-serif'] not found. Falling back to DejaVu Sans\n",
      "  (prop.get_family(), self.defaultFamily[fontext]))\n"
     ]
    },
    {
     "data": {
      "image/png": "[encoded data removed]",
      "text/plain": [
       "<Figure size 432x288 with 1 Axes>"
      ]
     },
     "metadata": {},
     "output_type": "display_data"
    }
   ],
   "source": [
    "# list of points \n",
    "import numpy as np \n",
    "import matplotlib.pyplot as plt\n",
    "from scipy.spatial.distance import cdist\n",
    "np.random.seed(22)\n",
    "\n",
    "plt.subplot('121')\n",
    "\n",
    "plt.plot([0, 0, 1], [0, 1, 0], 'ro', markersize = 10, alpha = 1)\n",
    "plt.plot([1], [1], 'bs', markersize = 10, alpha = 1)\n",
    "# plt.text(3.6, 2.5, r'?', fontsize=15)\n",
    "\n",
    "\n",
    "# hide tikcs \n",
    "cur_axes = plt.gca()\n",
    "cur_axes.axes.get_xaxis().set_ticks([0, 1])\n",
    "cur_axes.axes.get_yaxis().set_ticks([0, 1])\n",
    "\n",
    "plt.xlabel('$x_1$', fontsize = 20)\n",
    "plt.ylabel('$x_2$', fontsize = 20)\n",
    "\n",
    "# fill region colors\n",
    "x1 = np.arange(-10,10,0.1)\n",
    "y1 = 1.5 - x1\n",
    "y2 = 10\n",
    "y3 = -10\n",
    "plt.plot(x1, y1, 'k')\n",
    "plt.fill_between(x1, y3, y1, color='red', alpha='0.1')\n",
    "plt.fill_between(x1, y1, y2, color = 'blue', alpha = '.1')\n",
    "\n",
    "plt.axis('equal')\n",
    "plt.ylim(-.5, 1.5)\n",
    "plt.xlim(-.5, 1.5)\n",
    "plt.title('AND problem')\n",
    "plt.text(0, 1.5, r'$2x_1 + 2x_2 - 3 = 0$', fontsize=16, rotation = -45)\n",
    "plt.text(-.3, 1.78, r'+', fontsize=15)\n",
    "plt.text(-.3, 1.55, r'-', fontsize=20)\n",
    "\n",
    "# plt.savefig('AND.png', bbox_inches='tight', dpi = 500)\n",
    "filename = 'AND.pdf'\n",
    "with PdfPages(filename) as pdf:\n",
    "    pdf.savefig(bbox_inches='tight')\n",
    "plt.show()"
   ]
  },
  {
   "cell_type": "code",
   "execution_count": 3,
   "metadata": {},
   "outputs": [
    {
     "data": {
      "image/png": "[encoded data removed]",
      "text/plain": [
       "<Figure size 432x288 with 1 Axes>"
      ]
     },
     "metadata": {},
     "output_type": "display_data"
    }
   ],
   "source": [
    "# list of points \n",
    "import numpy as np \n",
    "import matplotlib.pyplot as plt\n",
    "from scipy.spatial.distance import cdist\n",
    "np.random.seed(22)\n",
    "\n",
    "plt.subplot('121')\n",
    "\n",
    "plt.plot([1, 0, 1], [1, 1, 0], 'bs', markersize = 10, alpha = 1)\n",
    "plt.plot([0], [0], 'ro', markersize = 10, alpha = 1)\n",
    "# plt.text(3.6, 2.5, r'?', fontsize=15)\n",
    "\n",
    "\n",
    "# hide tikcs \n",
    "cur_axes = plt.gca()\n",
    "cur_axes.axes.get_xaxis().set_ticks([0, 1])\n",
    "cur_axes.axes.get_yaxis().set_ticks([0, 1])\n",
    "\n",
    "plt.xlabel('$x_1$', fontsize = 20)\n",
    "plt.ylabel('$x_2$', fontsize = 20)\n",
    "\n",
    "# fill region colors\n",
    "x1 = np.arange(-10,10,0.1)\n",
    "y1 = .5 - x1\n",
    "y2 = 10\n",
    "y3 = -10\n",
    "plt.plot(x1, y1, 'k')\n",
    "plt.fill_between(x1, y3, y1, color='red', alpha='0.1')\n",
    "plt.fill_between(x1, y1, y2, color = 'blue', alpha = '.1')\n",
    "\n",
    "plt.axis('equal')\n",
    "plt.ylim(-.5, 1.5)\n",
    "plt.xlim(-.5, 1.5)\n",
    "plt.title('OR problem')\n",
    "plt.text(0, .5, r'$2x_1 + 2x_2 - 1 = 0$', fontsize=16, rotation = -45)\n",
    "plt.text(-.3, 0.78, r'+', fontsize=15)\n",
    "plt.text(-.4, 0.65, r'-', fontsize=20)\n",
    "\n",
    "plt.savefig('OR.png', bbox_inches='tight', dpi = 500)\n",
    "plt.show()"
   ]
  },
  {
   "cell_type": "code",
   "execution_count": 4,
   "metadata": {},
   "outputs": [
    {
     "data": {
      "image/png": "[encoded data removed]",
      "text/plain": [
       "<Figure size 432x288 with 1 Axes>"
      ]
     },
     "metadata": {},
     "output_type": "display_data"
    }
   ],
   "source": [
    "# list of points \n",
    "import numpy as np \n",
    "import matplotlib.pyplot as plt\n",
    "from scipy.spatial.distance import cdist\n",
    "np.random.seed(22)\n",
    "\n",
    "plt.subplot('121')\n",
    "\n",
    "plt.plot([0], [0], 'bs', markersize = 10, alpha = 1)\n",
    "plt.plot([1], [0], 'ro', markersize = 10, alpha = 1)\n",
    "# plt.text(3.6, 2.5, r'?', fontsize=15)\n",
    "\n",
    "\n",
    "# hide tikcs \n",
    "cur_axes = plt.gca()\n",
    "cur_axes.axes.get_xaxis().set_ticks([0, 1])\n",
    "cur_axes.axes.get_yaxis().set_ticks([])\n",
    "\n",
    "plt.xlabel('$x_1$', fontsize = 20)\n",
    "# plt.ylabel('$x_2$', fontsize = 20)\n",
    "\n",
    "# fill region colors\n",
    "y1 = np.arange(-10,10,0.1)\n",
    "x0 = np.arange(0.5, 10, 2)\n",
    "x10 = 1 - x0 \n",
    "x1 = .5 + y1*0\n",
    "y2 = 10 + x0*0\n",
    "y3 = -10 + x0*0\n",
    "\n",
    "plt.plot(x1, y1, 'k')\n",
    "plt.fill_between(x0, y3, y2, color='red', alpha='0.1')\n",
    "plt.fill_between(x10, y3, y2, color='blue', alpha='0.1')\n",
    "# plt.fill_between(x1, y1, y2, color = 'blue', alpha = '.1')\n",
    "\n",
    "plt.axis('equal')\n",
    "plt.ylim(-.5, .5)\n",
    "plt.xlim(-.5, 1.5)\n",
    "plt.title('NOT problem')\n",
    "plt.text(.55, .5, r'$ -2x_1 +1 = 0$', fontsize=16, rotation = -90)\n",
    "plt.text(.3, 1, r'+', fontsize=15)\n",
    "plt.text(.6, 1, r'-', fontsize=20)\n",
    "\n",
    "plt.savefig('NOT.png', bbox_inches='tight', dpi = 500)\n",
    "plt.show()"
   ]
  },
  {
   "cell_type": "code",
   "execution_count": 5,
   "metadata": {},
   "outputs": [
    {
     "data": {
      "image/png": "[encoded data removed]",
      "text/plain": [
       "<Figure size 432x288 with 1 Axes>"
      ]
     },
     "metadata": {},
     "output_type": "display_data"
    }
   ],
   "source": [
    "# list of points \n",
    "import numpy as np \n",
    "import matplotlib.pyplot as plt\n",
    "from scipy.spatial.distance import cdist\n",
    "np.random.seed(22)\n",
    "\n",
    "plt.subplot('121')\n",
    "\n",
    "plt.plot([0, 1], [0, 1], 'bs', markersize = 10, alpha = 1)\n",
    "plt.plot([0, 1], [1, 0], 'ro', markersize = 10, alpha = 1)\n",
    "# plt.text(3.6, 2.5, r'?', fontsize=15)\n",
    "\n",
    "\n",
    "# hide tikcs \n",
    "cur_axes = plt.gca()\n",
    "cur_axes.axes.get_xaxis().set_ticks([0, 1])\n",
    "cur_axes.axes.get_yaxis().set_ticks([0, 1])\n",
    "\n",
    "plt.xlabel('$x_1$', fontsize = 20)\n",
    "plt.ylabel('$x_2$', fontsize = 20)\n",
    "\n",
    "# fill region colors\n",
    "x1 = np.arange(-10,10,0.1)\n",
    "y1 = 1.0/3 - (2.0/3)*x1\n",
    "plt.plot(x1, y1, 'k')\n",
    "# plt.fill_between(x0, y3, y2, color='red', alpha='0.1')\n",
    "# plt.fill_between(x10, y3, y2, color='blue', alpha='0.1')\n",
    "# plt.fill_between(x1, y1, y2, color = 'blue', alpha = '.1')\n",
    "\n",
    "plt.axis('equal')\n",
    "plt.ylim(-.5, 1.5)\n",
    "plt.xlim(-.5, 1.5)\n",
    "plt.title('XOR problem')\n",
    "plt.text(.5, .05, r'$ ?$', fontsize=16, rotation = 0)\n",
    "\n",
    "plt.savefig('XOR.png', bbox_inches='tight', dpi = 500)\n",
    "plt.show()"
   ]
  },
  {
   "cell_type": "code",
   "execution_count": 6,
   "metadata": {},
   "outputs": [
    {
     "data": {
      "image/png": "[encoded data removed]",
      "text/plain": [
       "<Figure size 432x288 with 1 Axes>"
      ]
     },
     "metadata": {},
     "output_type": "display_data"
    }
   ],
   "source": [
    "# list of points \n",
    "import numpy as np \n",
    "import matplotlib.pyplot as plt\n",
    "from scipy.spatial.distance import cdist\n",
    "np.random.seed(22)\n",
    "\n",
    "plt.subplot('121')\n",
    "\n",
    "plt.plot([0, 1], [0, 1], 'ro', markersize = 10, alpha = 1)\n",
    "plt.plot([0, 1], [1, 0], 'bs', markersize = 10, alpha = 1)\n",
    "# plt.text(3.6, 2.5, r'?', fontsize=15)\n",
    "\n",
    "\n",
    "# hide tikcs \n",
    "cur_axes = plt.gca()\n",
    "cur_axes.axes.get_xaxis().set_ticks([0, 1])\n",
    "cur_axes.axes.get_yaxis().set_ticks([0, 1])\n",
    "\n",
    "plt.xlabel('$x_1$', fontsize = 20)\n",
    "plt.ylabel('$x_2$', fontsize = 20)\n",
    "\n",
    "# fill region colors\n",
    "x1 = np.arange(-10,10,0.1)\n",
    "y1 = 0.5 - x1\n",
    "y2 = 1.5 - x1 \n",
    "y3 = -10 + 0*x1 \n",
    "y4 = 10 + 0*x1 \n",
    "plt.plot(x1, y1, 'k')\n",
    "plt.plot(x1, y2, 'k')\n",
    "plt.fill_between(x1, y3, y1, color='red', alpha='0.1')\n",
    "plt.fill_between(x1, y2, y4, color='red', alpha='0.1')\n",
    "plt.fill_between(x1, y1, y2, color='blue', alpha='0.1')\n",
    "# plt.fill_between(x10, y3, y2, color='blue', alpha='0.1')\n",
    "# plt.fill_between(x1, y1, y2, color = 'blue', alpha = '.1')\n",
    "\n",
    "plt.axis('equal')\n",
    "plt.ylim(-.5, 1.5)\n",
    "plt.xlim(-.5, 1.5)\n",
    "plt.title('XOR problem (2 layers)')\n",
    "plt.text(0, 1.5, r'$-2x_1 - 2x_2 + 3 = 0$', fontsize=16, rotation = -45)\n",
    "plt.text(0, .5, r'$2x_1 + 2x_2 - 1 = 0$', fontsize=16, rotation = -45)\n",
    "\n",
    "plt.text(-.3, 1.78, r'-', fontsize=20)\n",
    "plt.text(-.3, 1.55, r'+', fontsize=15)\n",
    "\n",
    "plt.text(-.3, 0.78, r'+', fontsize=15)\n",
    "plt.text(-.4, 0.65, r'-', fontsize=20)\n",
    "# plt.text(.5, .05, r'$ ?$', fontsize=16, rotation = 0)\n",
    "\n",
    "plt.savefig('XOR2.png', bbox_inches='tight', dpi = 500)\n",
    "plt.show()"
   ]
  },
  {
   "cell_type": "code",
   "execution_count": null,
   "metadata": {
    "collapsed": true
   },
   "outputs": [],
   "source": []
  },
  {
   "cell_type": "code",
   "execution_count": null,
   "metadata": {
    "collapsed": true
   },
   "outputs": [],
   "source": []
  },
  {
   "cell_type": "code",
   "execution_count": null,
   "metadata": {
    "collapsed": true
   },
   "outputs": [],
   "source": []
  },
  {
   "cell_type": "code",
   "execution_count": null,
   "metadata": {
    "collapsed": true
   },
   "outputs": [],
   "source": []
  },
  {
   "cell_type": "code",
   "execution_count": null,
   "metadata": {
    "collapsed": true
   },
   "outputs": [],
   "source": []
  },
  {
   "cell_type": "code",
   "execution_count": null,
   "metadata": {
    "collapsed": true
   },
   "outputs": [],
   "source": []
  },
  {
   "cell_type": "code",
   "execution_count": null,
   "metadata": {
    "collapsed": true
   },
   "outputs": [],
   "source": []
  }
 ],
 "metadata": {
  "kernelspec": {
   "display_name": "Python 2",
   "language": "python",
   "name": "python2"
  },
  "language_info": {
   "codemirror_mode": {
    "name": "ipython",
    "version": 2
   },
   "file_extension": ".py",
   "mimetype": "text/x-python",
   "name": "python",
   "nbconvert_exporter": "python",
   "pygments_lexer": "ipython2",
   "version": "2.7.13"
  },
  "latex_envs": {
   "LaTeX_envs_menu_present": true,
   "autoclose": false,
   "autocomplete": true,
   "bibliofile": "biblio.bib",
   "cite_by": "apalike",
   "current_citInitial": 1,
   "eqLabelWithNumbers": true,
   "eqNumInitial": 1,
   "hotkeys": {
    "equation": "Ctrl-E",
    "itemize": "Ctrl-I"
   },
   "labels_anchors": false,
   "latex_user_defs": false,
   "report_style_numbering": false,
   "user_envs_cfg": false
  },
  "toc": {
   "nav_menu": {},
   "number_sections": true,
   "sideBar": true,
   "skip_h1_title": false,
   "title_cell": "Table of Contents",
   "title_sidebar": "Contents",
   "toc_cell": false,
   "toc_position": {},
   "toc_section_display": true,
   "toc_window_display": true
  }
 },
 "nbformat": 4,
 "nbformat_minor": 2
}
