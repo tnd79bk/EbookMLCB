{
 "cells": [
  {
   "cell_type": "code",
   "execution_count": null,
   "metadata": {
    "collapsed": true
   },
   "outputs": [],
   "source": [
    "# To support both python 2 and python 3\n",
    "from __future__ import division, print_function, unicode_literals\n",
    "import math\n",
    "import numpy as np \n",
    "from matplotlib.backends.backend_pdf import PdfPages\n",
    "import matplotlib.pyplot as plt\n",
    "from matplotlib import rc\n",
    "rc('font',**{'family':'sans-serif','sans-serif':['Helvetica']})\n",
    "rc('text', usetex=True)\n",
    "\n",
    "\n",
    "x0 = np.linspace(0.001, 0.999, 1000)\n",
    "\n",
    "\n",
    "\n",
    "\n",
    "def ce(p, q):\n",
    "\treturn -(p*np.log(q) + (1-p)*np.log(1 - q))\n",
    "\n",
    "def dist(p, q):\n",
    "\treturn (p - q)**2 \n",
    "\n",
    "fig = plt.figure(figsize=(4,4))\n",
    "# fig = plt.figure(num=None, figsize=(4, 4), dpi=300)\n",
    "# fig = plt.gcf()\n",
    "# fig.set_size_inches(7, 10.5)\n",
    "\n",
    "# fig.suptitle('bold figure suptitle', fontsize=14, fontweight='bold')\n",
    "\n",
    "\n",
    "\n",
    "# fig.suptitle('Example', fontsize=14, fontweight='bold')\n",
    "ax = fig.add_subplot(111)\n",
    "# y0 = -(.5*np.log(x0) + .5*np.log(1 - x0))\n",
    "p = .5 \n",
    "y0 = ce(p, x0)\n",
    "plt.plot(x0, y0, 'k-')\n",
    "ax.text(0.1, 1.35, r'$-(0.5\\log(q) + 0.5\\log(1 - q))$', fontsize=15, color = 'black')\n",
    "\n",
    "z0 = (p - x0)**2\n",
    "plt.plot(x0, z0, 'k--')\n",
    "\n",
    "plt.axis([0, 1, -.5, 6])\n",
    "ax.text(0.2, .3, r'$(q - 0.5)^2$', fontsize=15, color = 'black')\n",
    "ax.set_title(\"$p = 0.5$\")\n",
    "plt.plot(p, ce(p, p), 'kx', markersize= 7)\n",
    "plt.plot(p, dist(p, p), 'kx', markersize= 7)\n",
    "\n",
    "# plt.savefig('crossentropy1.png', bbox_inches='tight', dpi = 300)\n",
    "plt.tick_params(axis='both', which='major', labelsize=14)\n",
    "filename = 'crossentropy1.pdf'\n",
    "with PdfPages(filename) as pdf:\n",
    "    pdf.savefig(bbox_inches='tight')\n",
    "\n",
    "plt.show()"
   ]
  },
  {
   "cell_type": "code",
   "execution_count": 8,
   "metadata": {},
   "outputs": [
    {
     "data": {
      "image/png": "[encoded data removed]",
      "text/plain": [
       "<Figure size 432x288 with 1 Axes>"
      ]
     },
     "metadata": {},
     "output_type": "display_data"
    }
   ],
   "source": [
    "# #######################\n",
    "plt.cla()\n",
    "p = .1\n",
    "y0 = ce(p, x0)\n",
    "plt.plot(x0, y0, 'k-')\n",
    "ax.text(0.07, 2, r'$-(0.1\\log(q) + 0.9\\log(1 - q))$', fontsize=15, color = 'black')\n",
    "\n",
    "z0 = (p - x0)**2\n",
    "plt.plot(x0, z0, 'k--')\n",
    "\n",
    "plt.axis([0, 1, -.5, 6])\n",
    "ax.text(0.6, .5, r'$(q - 0.1)^2$', fontsize=15, color = 'black')\n",
    "ax.set_title(\"$p = 0.1$\")\n",
    "plt.plot(p, ce(p, p), 'kx', markersize= 7)\n",
    "plt.plot(p, dist(p, p), 'kx', markersize= 7)\n",
    "\n",
    "# plt.savefig('crossentropy2.png', bbox_inches='tight', dpi = 300)\n",
    "plt.tick_params(axis='both', which='major', labelsize=14)\n",
    "filename = 'crossentropy2.pdf'\n",
    "with PdfPages(filename) as pdf:\n",
    "    pdf.savefig(bbox_inches='tight')\n",
    "\n",
    "# plt.show()\n",
    "\n",
    "plt.cla() \n",
    "p = .8\n",
    "y0 = ce(p, x0)\n",
    "plt.plot(x0, y0, 'k-')\n",
    "ax.text(0.15, 1.8, r'$-(0.8\\log(q) + 0.2\\log(1 - q))$', fontsize=15, color = 'black')\n",
    "\n",
    "z0 = (p - x0)**2\n",
    "plt.plot(x0, z0, 'k--')\n",
    "\n",
    "plt.axis([0, 1, -.5, 6])\n",
    "ax.text(0.1, .5, r'$(q - 0.8)^2$', fontsize=15, color = 'black')\n",
    "ax.set_title(\"$p = 0.8$\")\n",
    "plt.plot(p, ce(p, p), 'kx', markersize= 7)\n",
    "plt.plot(p, dist(p, p), 'kx', markersize= 7)\n",
    "# plt.savefig('crossentropy3.png', bbox_inches='tight', dpi = 300)\n",
    "plt.tick_params(axis='both', which='major', labelsize=14)\n",
    "filename = 'crossentropy3.pdf'\n",
    "with PdfPages(filename) as pdf:\n",
    "    pdf.savefig(bbox_inches='tight')\n",
    "\n",
    "plt.show()"
   ]
  },
  {
   "cell_type": "code",
   "execution_count": null,
   "metadata": {
    "collapsed": true
   },
   "outputs": [],
   "source": []
  }
 ],
 "metadata": {
  "kernelspec": {
   "display_name": "Python 2",
   "language": "python",
   "name": "python2"
  },
  "language_info": {
   "codemirror_mode": {
    "name": "ipython",
    "version": 2
   },
   "file_extension": ".py",
   "mimetype": "text/x-python",
   "name": "python",
   "nbconvert_exporter": "python",
   "pygments_lexer": "ipython2",
   "version": "2.7.13"
  },
  "latex_envs": {
   "LaTeX_envs_menu_present": true,
   "autoclose": false,
   "autocomplete": true,
   "bibliofile": "biblio.bib",
   "cite_by": "apalike",
   "current_citInitial": 1,
   "eqLabelWithNumbers": true,
   "eqNumInitial": 1,
   "hotkeys": {
    "equation": "Ctrl-E",
    "itemize": "Ctrl-I"
   },
   "labels_anchors": false,
   "latex_user_defs": false,
   "report_style_numbering": false,
   "user_envs_cfg": false
  },
  "toc": {
   "nav_menu": {},
   "number_sections": true,
   "sideBar": true,
   "skip_h1_title": false,
   "title_cell": "Table of Contents",
   "title_sidebar": "Contents",
   "toc_cell": false,
   "toc_position": {},
   "toc_section_display": true,
   "toc_window_display": true
  }
 },
 "nbformat": 4,
 "nbformat_minor": 2
}
