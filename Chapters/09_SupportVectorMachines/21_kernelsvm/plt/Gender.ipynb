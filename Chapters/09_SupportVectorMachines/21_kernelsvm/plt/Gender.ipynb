{
 "cells": [
  {
   "cell_type": "markdown",
   "metadata": {},
   "source": [
    "# Batch Normalization\n",
    "One way to make deep networks easier to train is to use more sophisticated optimization procedures such as SGD+momentum, RMSProp, or Adam. Another strategy is to change the architecture of the network to make it easier to train. One idea along these lines is batch normalization which was recently proposed by [3].\n",
    "\n",
    "The idea is relatively straightforward. **Machine learning methods tend to work better when their input data consists of uncorrelated features with zero mean and unit variance**. When training a neural network, we can preprocess the data before feeding it to the network to explicitly decorrelate its features; this will ensure that the first layer of the network sees data that follows a nice distribution. However even if we preprocess the input data, the activations at deeper layers of the network will likely no longer be decorrelated and will no longer have zero mean or unit variance since they are output from earlier layers in the network. Even worse, during the training process the distribution of features at each layer of the network will shift as the weights of each layer are updated.\n",
    "\n",
    "The authors of [3] hypothesize that the shifting distribution of features inside deep neural networks may make training deep networks more difficult. To overcome this problem, [3] proposes to insert batch normalization layers into the network. At training time, a batch normalization layer uses a minibatch of data to estimate the mean and standard deviation of each feature. These estimated means and standard deviations are then used to center and normalize the features of the minibatch. A running average of these means and standard deviations is kept during training, and at test time these running averages are used to center and normalize features.\n",
    "\n",
    "It is possible that this normalization strategy could reduce the representational power of the network, since it may sometimes be optimal for certain layers to have features that are not zero-mean or unit variance. To this end, the batch normalization layer includes learnable shift and scale parameters for each feature dimension.\n",
    "\n",
    "[3] Sergey Ioffe and Christian Szegedy, \"Batch Normalization: Accelerating Deep Network Training by Reducing\n",
    "Internal Covariate Shift\", ICML 2015."
   ]
  },
  {
   "cell_type": "code",
   "execution_count": 25,
   "metadata": {},
   "outputs": [
    {
     "name": "stdout",
     "output_type": "stream",
     "text": [
      "[ 1  2  3  4  5  6  7  8  9 10 11 12 13 14 15 16 17 18 19 20 21 22 23 24 25]\n",
      "Accuracy: 90.48 %\n"
     ]
    }
   ],
   "source": [
    "import numpy as np \n",
    "import matplotlib.pyplot as plt\n",
    "from sklearn import linear_model \n",
    "from sklearn.metrics import accuracy_score\n",
    "from scipy import misc      # for \n",
    "from sklearn import preprocessing\n",
    "np.random.seed(1)\n",
    "path = '../../data/AR/' # path to the database \n",
    "\n",
    "train_ids = np.arange(1, 26)\n",
    "test_ids = np.arange(26, 50)\n",
    "view_ids = np.hstack((np.arange(1, 8), np.arange(14, 21)))\n",
    "\n",
    "D = 165*120 # original dimension \n",
    "d = 1000 # new dimension \n",
    "\n",
    "# generate the projection matrix \n",
    "ProjectionMatrix = np.random.randn(D, d) \n",
    "\n",
    "def build_list_fn(pre, img_ids, view_ids):\n",
    "    \"\"\"\n",
    "    pre = 'M-' or 'W-'\n",
    "    img_ids: indexes of images\n",
    "    view_ids: indexes of views\n",
    "    \"\"\"\n",
    "    list_fn = []\n",
    "    for im_id in img_ids:\n",
    "        for v_id in view_ids:\n",
    "            fn = path + pre + str(im_id).zfill(3) + '-' + \\\n",
    "                str(v_id).zfill(2) + '.bmp'\n",
    "            list_fn.append(fn)\n",
    "    return list_fn \n",
    "\n",
    "def rgb2gray(rgb):\n",
    "#     Y' = 0.299 R + 0.587 G + 0.114 B \n",
    "    return rgb[:,:,0]*.299 + rgb[:, :, 1]*.587 + rgb[:, :, 2]*.114\n",
    "\n",
    "# feature extraction \n",
    "def vectorize_img(filename):    \n",
    "    # load image \n",
    "    rgb = misc.imread(filename)\n",
    "    # convert to gray scale \n",
    "    gray = rgb2gray(rgb)\n",
    "    # vectorization each row is a data point \n",
    "    im_vec = gray.reshape(1, D)\n",
    "    return im_vec \n",
    "\n",
    "def build_data_matrix(img_ids, view_ids):\n",
    "    total_imgs = img_ids.shape[0]*view_ids.shape[0]*2 \n",
    "        \n",
    "    X_full = np.zeros((total_imgs, D))\n",
    "    y = np.hstack((np.zeros((total_imgs/2, )), np.ones((total_imgs/2, ))))\n",
    "    \n",
    "    list_fn_m = build_list_fn('M-', img_ids, view_ids)\n",
    "    list_fn_w = build_list_fn('W-', img_ids, view_ids)\n",
    "    list_fn = list_fn_m + list_fn_w \n",
    "    \n",
    "    for i in range(len(list_fn)):\n",
    "        X_full[i, :] = vectorize_img(list_fn[i])\n",
    "\n",
    "    X = np.dot(X_full, ProjectionMatrix)\n",
    "    return (X, y)\n",
    "print(train_ids)\n",
    "(X_train_full, y_train) = build_data_matrix(train_ids, view_ids)\n",
    "x_mean = X_train_full.mean(axis = 0)\n",
    "x_var  = X_train_full.var(axis = 0)\n",
    "\n",
    "def feature_extraction(X):\n",
    "    return (X - x_mean)/x_var     \n",
    "\n",
    "X_train = feature_extraction(X_train_full)\n",
    "X_train_full = None ## free this variable \n",
    "\n",
    "(X_test_full, y_test) = build_data_matrix(test_ids, view_ids)\n",
    "X_test = feature_extraction(X_test_full)\n",
    "X_test_full = None \n",
    "\n",
    "logreg = linear_model.LogisticRegression(C=1e5) # just a big number \n",
    "logreg.fit(X_train, y_train)\n",
    "\n",
    "\n",
    "y_pred = logreg.predict(X_test)\n",
    "print(\"Accuracy: %.2f %%\" %(100*accuracy_score(y_test, y_pred)))\n",
    "\n",
    "\n",
    "    \n",
    "# def feature_extraction_fn(fn):\n",
    "#     im = vectorize_img(fn)\n",
    "#     im1 = np.dot(im, ProjectionMatrix)\n",
    "#     return feature_extraction(im1)\n",
    "\n",
    "# fn1 = path + 'M-036-18.bmp'\n",
    "# fn2 = path + 'W-045-01.bmp'\n",
    "# fn3 = path + 'M-048-01.bmp'\n",
    "# fn4 = path + 'W-027-02.bmp'\n",
    "\n",
    "# x1 = feature_extraction_fn(fn1)\n",
    "# p1 = logreg.predict_proba(x1)\n",
    "# print(p1)\n",
    "\n",
    "# x2 = feature_extraction_fn(fn2)\n",
    "# p2 = logreg.predict_proba(x2)\n",
    "# print(p2)\n",
    "\n",
    "# x3 = feature_extraction_fn(fn3)\n",
    "# p3 = logreg.predict_proba(x3)\n",
    "# print(p3)\n",
    "\n",
    "# x4 = feature_extraction_fn(fn4)\n",
    "# p4 = logreg.predict_proba(x4)\n",
    "# print(p4)"
   ]
  },
  {
   "cell_type": "code",
   "execution_count": 36,
   "metadata": {},
   "outputs": [
    {
     "name": "stdout",
     "output_type": "stream",
     "text": [
      "Accuracy: 89.73 %\n"
     ]
    }
   ],
   "source": [
    "from sklearn import svm\n",
    "clf = svm.SVC(kernel='poly', gamma=5, coef0 = 1, degree = 2)\n",
    "clf.fit(X_train, y_train)\n",
    "y_pred = clf.predict(X_test)\n",
    "print(\"Accuracy: %.2f %%\" %(100*accuracy_score(y_test, y_pred)))"
   ]
  },
  {
   "cell_type": "code",
   "execution_count": 37,
   "metadata": {
    "collapsed": true
   },
   "outputs": [],
   "source": [
    "import scipy.io as sio\n",
    "A = sio.loadmat('../../data/myARgender.mat')"
   ]
  },
  {
   "cell_type": "code",
   "execution_count": 39,
   "metadata": {},
   "outputs": [
    {
     "name": "stdout",
     "output_type": "stream",
     "text": [
      "label_test\n",
      "label_train\n",
      "__header__\n",
      "__globals__\n",
      "Y_train\n",
      "__version__\n",
      "Y_test\n"
     ]
    }
   ],
   "source": [
    "for key in A:\n",
    "    print key"
   ]
  },
  {
   "cell_type": "code",
   "execution_count": 145,
   "metadata": {},
   "outputs": [
    {
     "name": "stdout",
     "output_type": "stream",
     "text": [
      "Accuracy: 92.86 %\n"
     ]
    }
   ],
   "source": [
    "import scipy.io as sio\n",
    "A = sio.loadmat('myARgender.mat')\n",
    "X_train = A['Y_train'].T \n",
    "X_test = A['Y_test'].T \n",
    "N = 700\n",
    "y_train = A['label_train'].reshape(N)\n",
    "y_test = A['label_test'].reshape(N)\n",
    "\n",
    "# for \n",
    "clf = svm.SVC(kernel='poly', degree = 3, gamma=1, C = 100)\n",
    "clf.fit(X_train, y_train)\n",
    "y_pred = clf.predict(X_test)\n",
    "print(\"Accuracy: %.2f %%\" %(100*accuracy_score(y_test, y_pred)))"
   ]
  },
  {
   "cell_type": "code",
   "execution_count": 66,
   "metadata": {},
   "outputs": [
    {
     "name": "stdout",
     "output_type": "stream",
     "text": [
      "Accuracy: 93.14 %\n"
     ]
    }
   ],
   "source": [
    "logreg = linear_model.LogisticRegression(C=1e5) # just a big number \n",
    "logreg.fit(X_train, y_train)\n",
    "\n",
    "y_pred = logreg.predict(X_test)\n",
    "print(\"Accuracy: %.2f %%\" %(100*accuracy_score(y_test, y_pred)))"
   ]
  },
  {
   "cell_type": "code",
   "execution_count": null,
   "metadata": {
    "collapsed": true
   },
   "outputs": [],
   "source": []
  }
 ],
 "metadata": {
  "kernelspec": {
   "display_name": "Python 2",
   "language": "python",
   "name": "python2"
  },
  "language_info": {
   "codemirror_mode": {
    "name": "ipython",
    "version": 2
   },
   "file_extension": ".py",
   "mimetype": "text/x-python",
   "name": "python",
   "nbconvert_exporter": "python",
   "pygments_lexer": "ipython2",
   "version": "2.7.13"
  }
 },
 "nbformat": 4,
 "nbformat_minor": 1
}
