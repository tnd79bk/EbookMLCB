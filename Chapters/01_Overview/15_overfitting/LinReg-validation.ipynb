{
 "cells": [
  {
   "cell_type": "code",
   "execution_count": 1,
   "metadata": {
    "collapsed": true
   },
   "outputs": [],
   "source": [
    "from matplotlib import rc\n",
    "rc('font',**{'family':'sans-serif','sans-serif':['Helvetica']})\n",
    "rc('text', usetex=True)\n"
   ]
  },
  {
   "cell_type": "code",
   "execution_count": 3,
   "metadata": {},
   "outputs": [
    {
     "name": "stdout",
     "output_type": "stream",
     "text": [
      "49\n"
     ]
    },
    {
     "data": {
      "image/png": "[encoded data removed]",
      "text/plain": [
       "<Figure size 432x288 with 1 Axes>"
      ]
     },
     "metadata": {},
     "output_type": "display_data"
    }
   ],
   "source": [
    "# To support both python 2 and python 3\n",
    "from __future__ import division, print_function, unicode_literals\n",
    "import numpy as np \n",
    "import matplotlib\n",
    "import matplotlib.pyplot as plt\n",
    "np.random.seed(5)\n",
    "from sklearn import datasets, linear_model\n",
    "\n",
    "N = 50\n",
    "N_test = 10 \n",
    "X = np.random.rand(N, 1)*5\n",
    "y = 3*(X -2) * (X - 3)*(X-4) +  10*np.random.randn(N, 1)\n",
    "\n",
    "# split train to train + valid use train_test_split \n",
    "from sklearn.model_selection import train_test_split\n",
    "X_train, X_valid, y_train, y_valid = train_test_split( \\\n",
    "     X, y, test_size=0.33, random_state=0)\n",
    "\n",
    "# generate test data\n",
    "X_test = (np.random.rand(N_test,1)) *5\n",
    "y_test = 3*(X_test -2) * (X_test - 3)*(X_test-4) +  10*np.random.randn(N_test, 1)\n",
    "\n",
    "def buildX(X, d = 2):\n",
    "    res = np.ones((X.shape[0], 1))\n",
    "    for i in xrange(1, d+1):\n",
    "        res = np.concatenate((res, X**i), axis = 1)\n",
    "    return res \n",
    "\n",
    "def poly(a, x):\n",
    "    \"\"\"\n",
    "    return a[0] + a[1]*x + a[2]*x**2 + .... \n",
    "    \"\"\"\n",
    "    res = np.zeros_like(x)\n",
    "    for i in xrange(len(a) - 1, -1, -1):\n",
    "        res = res*x + a[i] \n",
    "    return res \n",
    "\n",
    "x = 2\n",
    "a = [1, 2, 3, 4]\n",
    "print(poly(a, x))\n",
    "\n",
    "def MSE(x, y, w):     \n",
    "    d = len(w) - 1\n",
    "    y_pred = poly(w, x)\n",
    "    return np.mean(np.abs(y - y_pred))\n",
    "\n",
    "def myfit(d):\n",
    "    Xbar = buildX(X_train, d)\n",
    "    regr = linear_model.LinearRegression(fit_intercept=False) # fit_intercept = False for calculating the bias\n",
    "    regr.fit(Xbar, y_train)\n",
    "\n",
    "    w = regr.coef_[0]\n",
    "    train_err = MSE(X_train, y_train, w)\n",
    "    valid_err = MSE(X_valid, y_valid, w)\n",
    "    test_err = MSE(X_test, y_test, w)\n",
    "                    \n",
    "    return (train_err, valid_err, test_err)\n",
    "    \n",
    "    \n",
    "Train_error = []\n",
    "Test_error = []\n",
    "Valid_error = []\n",
    "degree = 9\n",
    "for d in xrange(1, degree):\n",
    "    (train_err, valid_err, test_err) = myfit(d) \n",
    "    Train_error.append(train_err)\n",
    "    Test_error.append(test_err)\n",
    "    Valid_error.append(valid_err)\n",
    "\n",
    "degree = xrange(1, degree)\n",
    "\n",
    "fig = plt.figure()\n",
    "# fig.suptitle('bold figure suptitle', fontsize=14, fontweight='bold')\n",
    "\n",
    "ax = fig.add_subplot(111)\n",
    "\n",
    "plt.plot(degree, Train_error, 'k-', linewidth = 2, label = \"huấn luyện\")\n",
    "plt.plot(degree, Valid_error, 'k--', linewidth = 2, label = \"xác thực\")\n",
    "plt.plot(degree, Test_error, 'k-.', linewidth = 2, label = \"kiểm tra\")\n",
    "plt.legend(loc=\"tốt nhất\", fontsize = 15)\n",
    "plt.xlabel('bậc', fontsize = 15)\n",
    "plt.ylabel('sai số', fontsize = 15)\n",
    "\n",
    "\n",
    "plt.plot([3.5, 3.5], [6, 10], color='k', linestyle='-', linewidth=2)\n",
    "\n",
    "plt.tick_params(axis='both', which='major', labelsize=13)\n",
    "ax.text(0.7, 0.01, 'quá khớp',\n",
    "        verticalalignment='bottom', horizontalalignment='right',\n",
    "        transform=ax.transAxes,\n",
    "        color='k', fontsize=15)\n",
    "ax.text(0.27, 0.01, 'chưa khớp',\n",
    "        verticalalignment='bottom', horizontalalignment='right',\n",
    "        transform=ax.transAxes,\n",
    "        color='k', fontsize=15)\n",
    "# plt.savefig('linreg_val.png', bbox_inches='tight', dpi = 600)\n",
    "from matplotlib.backends.backend_pdf import PdfPages\n",
    "# with PdfPages('linreg_val.pdf') as pdf:\n",
    "#     pdf.savefig(bbox_inches='tight')\n",
    "plt.savefig('lỉnreg_val.png', bbox_inches = 'tight', dpi = 700)\n",
    "plt.show()\n"
   ]
  },
  {
   "cell_type": "code",
   "execution_count": null,
   "metadata": {
    "collapsed": true
   },
   "outputs": [],
   "source": []
  }
 ],
 "metadata": {
  "kernelspec": {
   "display_name": "Python 2",
   "language": "python",
   "name": "python2"
  },
  "language_info": {
   "codemirror_mode": {
    "name": "ipython",
    "version": 2
   },
   "file_extension": ".py",
   "mimetype": "text/x-python",
   "name": "python",
   "nbconvert_exporter": "python",
   "pygments_lexer": "ipython2",
   "version": "2.7.13"
  },
  "latex_envs": {
   "LaTeX_envs_menu_present": true,
   "autoclose": false,
   "autocomplete": true,
   "bibliofile": "biblio.bib",
   "cite_by": "apalike",
   "current_citInitial": 1,
   "eqLabelWithNumbers": true,
   "eqNumInitial": 1,
   "hotkeys": {
    "equation": "Ctrl-E",
    "itemize": "Ctrl-I"
   },
   "labels_anchors": false,
   "latex_user_defs": false,
   "report_style_numbering": false,
   "user_envs_cfg": false
  },
  "toc": {
   "nav_menu": {},
   "number_sections": true,
   "sideBar": true,
   "skip_h1_title": false,
   "title_cell": "Table of Contents",
   "title_sidebar": "Contents",
   "toc_cell": false,
   "toc_position": {},
   "toc_section_display": true,
   "toc_window_display": true
  }
 },
 "nbformat": 4,
 "nbformat_minor": 2
}
