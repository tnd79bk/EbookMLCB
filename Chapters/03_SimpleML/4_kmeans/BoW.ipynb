{
 "cells": [
  {
   "cell_type": "code",
   "execution_count": 1,
   "metadata": {
    "collapsed": false
   },
   "outputs": [],
   "source": [
    "from sklearn.feature_extraction.text import CountVectorizer\n",
    "\n",
    "\n",
    "from sklearn.datasets import fetch_20newsgroups\n",
    "\n",
    "categories = ['alt.atheism', 'soc.religion.christian',\n",
    "               'comp.graphics', 'sci.med']\n",
    "twenty_train = fetch_20newsgroups(subset='train',\n",
    "   categories=categories, shuffle=True, random_state=42)"
   ]
  },
  {
   "cell_type": "code",
   "execution_count": 2,
   "metadata": {
    "collapsed": false
   },
   "outputs": [],
   "source": [
    "corpus = twenty_train.data\n",
    "vectorizer = CountVectorizer(min_df=1)\n",
    "X = vectorizer.fit_transform(corpus)\n",
    "\n",
    "# print vectorizer.get_feature_names() \n",
    "\n",
    "# print X.toarray()"
   ]
  },
  {
   "cell_type": "code",
   "execution_count": 3,
   "metadata": {
    "collapsed": true
   },
   "outputs": [],
   "source": [
    "from sklearn.cluster import KMeans, MiniBatchKMeans\n",
    "K = 4\n",
    "kmeans = KMeans(n_clusters=K).fit(X)"
   ]
  },
  {
   "cell_type": "code",
   "execution_count": 4,
   "metadata": {
    "collapsed": true
   },
   "outputs": [],
   "source": [
    "pred_label = kmeans.predict(X)"
   ]
  },
  {
   "cell_type": "code",
   "execution_count": 25,
   "metadata": {
    "collapsed": false
   },
   "outputs": [
    {
     "name": "stdout",
     "output_type": "stream",
     "text": [
      "[0 0 0 ..., 3 1 0]\n",
      "[0 0 0 ..., 0 0 0]\n",
      "/home/tiepvu/scikit_learn_data/20news_home/20news-bydate-train/comp.graphics/38440\n",
      "/home/tiepvu/scikit_learn_data/20news_home/20news-bydate-train/comp.graphics/38479\n",
      "/home/tiepvu/scikit_learn_data/20news_home/20news-bydate-train/soc.religion.christian/20737\n",
      "/home/tiepvu/scikit_learn_data/20news_home/20news-bydate-train/soc.religion.christian/20942\n",
      "/home/tiepvu/scikit_learn_data/20news_home/20news-bydate-train/soc.religion.christian/20487\n",
      "/home/tiepvu/scikit_learn_data/20news_home/20news-bydate-train/soc.religion.christian/20891\n",
      "/home/tiepvu/scikit_learn_data/20news_home/20news-bydate-train/soc.religion.christian/20914\n",
      "/home/tiepvu/scikit_learn_data/20news_home/20news-bydate-train/sci.med/58110\n",
      "/home/tiepvu/scikit_learn_data/20news_home/20news-bydate-train/sci.med/58114\n",
      "/home/tiepvu/scikit_learn_data/20news_home/20news-bydate-train/sci.med/58838\n",
      "/home/tiepvu/scikit_learn_data/20news_home/20news-bydate-train/soc.religion.christian/20509\n",
      "/home/tiepvu/scikit_learn_data/20news_home/20news-bydate-train/alt.atheism/51122\n",
      "/home/tiepvu/scikit_learn_data/20news_home/20news-bydate-train/alt.atheism/51276\n",
      "/home/tiepvu/scikit_learn_data/20news_home/20news-bydate-train/alt.atheism/53118\n",
      "/home/tiepvu/scikit_learn_data/20news_home/20news-bydate-train/sci.med/59044\n",
      "/home/tiepvu/scikit_learn_data/20news_home/20news-bydate-train/sci.med/59004\n",
      "/home/tiepvu/scikit_learn_data/20news_home/20news-bydate-train/alt.atheism/54182\n",
      "/home/tiepvu/scikit_learn_data/20news_home/20news-bydate-train/sci.med/59049\n",
      "/home/tiepvu/scikit_learn_data/20news_home/20news-bydate-train/soc.religion.christian/20678\n",
      "/home/tiepvu/scikit_learn_data/20news_home/20news-bydate-train/alt.atheism/51253\n"
     ]
    }
   ],
   "source": [
    "id0 = pred_label[pred_label == 0 ]\n",
    "print pred_label\n",
    "print id0\n",
    "cluster0 = twenty_train.filenames[pred_label == 0]\n",
    "for i in range(10):\n",
    "    print cluster0[i]\n",
    "    \n",
    "cluster0 = twenty_train.filenames[pred_label == 3]\n",
    "for i in range(10):\n",
    "    print cluster0[i]\n",
    "    \n",
    "\n",
    "# id0 = pred_label == 3\n",
    "# for i in range(10):\n",
    "#     print twenty_train.filenames[id0[i]]\n"
   ]
  },
  {
   "cell_type": "markdown",
   "metadata": {},
   "source": [
    "```[[  0   0   0   0   0   0   0   0   0   0   0   0   0   0]\n",
    " [  0   0   0   0   0   0   0   0   0   0   0   0   0   0]\n",
    " [  0   0   0   0   0   0   0   0   0   0   0   0   0   0]\n",
    " [  0   0   0   0   0   0   0   0   0   0   0   0   0   0]\n",
    " [  0   0   0 222 254 254 198 198 198 198 170   0   0   0]\n",
    " [  0   0   0   0   0   0  66  67  67  21 254   0   0   0]\n",
    " [  0   0   0   0   0   0   0   0   0 233  83   0   0   0]\n",
    " [  0   0   0   0   0   0   0   0  59 254   0   0   0   0]\n",
    " [  0   0   0   0   0   0   0   0 205  58   0   0   0   0]\n",
    " [  0   0   0   0   0   0   0  75 240   0   0   0   0   0]\n",
    " [  0   0   0   0   0   0   3 254  35   0   0   0   0   0]\n",
    " [  0   0   0   0   0   0 224 115   0   0   0   0   0   0]\n",
    " [  0   0   0   0   0  61 254  52   0   0   0   0   0   0]\n",
    " [  0   0   0   0   0 121 207   0   0   0   0   0   0   0]]```"
   ]
  }
 ],
 "metadata": {
  "kernelspec": {
   "display_name": "Python 2",
   "language": "python",
   "name": "python2"
  },
  "language_info": {
   "codemirror_mode": {
    "name": "ipython",
    "version": 2
   },
   "file_extension": ".py",
   "mimetype": "text/x-python",
   "name": "python",
   "nbconvert_exporter": "python",
   "pygments_lexer": "ipython2",
   "version": "2.7.12"
  }
 },
 "nbformat": 4,
 "nbformat_minor": 2
}
